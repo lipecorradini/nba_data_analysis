{
 "cells": [
  {
   "cell_type": "code",
   "execution_count": 140,
   "id": "8dc78dfd",
   "metadata": {},
   "outputs": [],
   "source": [
    "import pandas as pd\n",
    "import plotly.express as px"
   ]
  },
  {
   "cell_type": "code",
   "execution_count": 49,
   "id": "98647ed2",
   "metadata": {},
   "outputs": [],
   "source": [
    "data = pd.read_excel('nba_player_data.xlsx')"
   ]
  },
  {
   "cell_type": "code",
   "execution_count": 50,
   "id": "e6805df5",
   "metadata": {
    "collapsed": true
   },
   "outputs": [
    {
     "data": {
      "text/html": [
       "<div>\n",
       "<style scoped>\n",
       "    .dataframe tbody tr th:only-of-type {\n",
       "        vertical-align: middle;\n",
       "    }\n",
       "\n",
       "    .dataframe tbody tr th {\n",
       "        vertical-align: top;\n",
       "    }\n",
       "\n",
       "    .dataframe thead th {\n",
       "        text-align: right;\n",
       "    }\n",
       "</style>\n",
       "<table border=\"1\" class=\"dataframe\">\n",
       "  <thead>\n",
       "    <tr style=\"text-align: right;\">\n",
       "      <th></th>\n",
       "      <th>Year</th>\n",
       "      <th>Season_Type</th>\n",
       "      <th>PLAYER_ID</th>\n",
       "      <th>RANK</th>\n",
       "      <th>PLAYER</th>\n",
       "      <th>TEAM_ID</th>\n",
       "      <th>TEAM</th>\n",
       "      <th>GP</th>\n",
       "      <th>MIN</th>\n",
       "      <th>FGM</th>\n",
       "      <th>...</th>\n",
       "      <th>REB</th>\n",
       "      <th>AST</th>\n",
       "      <th>STL</th>\n",
       "      <th>BLK</th>\n",
       "      <th>TOV</th>\n",
       "      <th>PF</th>\n",
       "      <th>PTS</th>\n",
       "      <th>EFF</th>\n",
       "      <th>AST_TOV</th>\n",
       "      <th>STL_TOV</th>\n",
       "    </tr>\n",
       "  </thead>\n",
       "  <tbody>\n",
       "    <tr>\n",
       "      <th>5245</th>\n",
       "      <td>2019-20</td>\n",
       "      <td>Regular%20Season</td>\n",
       "      <td>203473</td>\n",
       "      <td>300</td>\n",
       "      <td>Dewayne Dedmon</td>\n",
       "      <td>1610612737</td>\n",
       "      <td>ATL</td>\n",
       "      <td>44</td>\n",
       "      <td>774</td>\n",
       "      <td>102</td>\n",
       "      <td>...</td>\n",
       "      <td>249</td>\n",
       "      <td>22</td>\n",
       "      <td>25</td>\n",
       "      <td>41</td>\n",
       "      <td>57</td>\n",
       "      <td>133</td>\n",
       "      <td>256</td>\n",
       "      <td>377</td>\n",
       "      <td>0.39</td>\n",
       "      <td>0.44</td>\n",
       "    </tr>\n",
       "    <tr>\n",
       "      <th>6890</th>\n",
       "      <td>2021-22</td>\n",
       "      <td>Regular%20Season</td>\n",
       "      <td>1626147</td>\n",
       "      <td>420</td>\n",
       "      <td>Justin Anderson</td>\n",
       "      <td>1610612754</td>\n",
       "      <td>IND</td>\n",
       "      <td>16</td>\n",
       "      <td>316</td>\n",
       "      <td>36</td>\n",
       "      <td>...</td>\n",
       "      <td>46</td>\n",
       "      <td>33</td>\n",
       "      <td>8</td>\n",
       "      <td>6</td>\n",
       "      <td>8</td>\n",
       "      <td>22</td>\n",
       "      <td>102</td>\n",
       "      <td>124</td>\n",
       "      <td>4.13</td>\n",
       "      <td>1.00</td>\n",
       "    </tr>\n",
       "    <tr>\n",
       "      <th>1075</th>\n",
       "      <td>2013-14</td>\n",
       "      <td>Regular%20Season</td>\n",
       "      <td>203546</td>\n",
       "      <td>399</td>\n",
       "      <td>Ian Clark</td>\n",
       "      <td>1610612762</td>\n",
       "      <td>UTA</td>\n",
       "      <td>23</td>\n",
       "      <td>172</td>\n",
       "      <td>26</td>\n",
       "      <td>...</td>\n",
       "      <td>19</td>\n",
       "      <td>15</td>\n",
       "      <td>8</td>\n",
       "      <td>2</td>\n",
       "      <td>14</td>\n",
       "      <td>24</td>\n",
       "      <td>68</td>\n",
       "      <td>55</td>\n",
       "      <td>1.07</td>\n",
       "      <td>0.57</td>\n",
       "    </tr>\n",
       "    <tr>\n",
       "      <th>528</th>\n",
       "      <td>2012-13</td>\n",
       "      <td>Playoffs</td>\n",
       "      <td>101106</td>\n",
       "      <td>61</td>\n",
       "      <td>Andrew Bogut</td>\n",
       "      <td>1610612744</td>\n",
       "      <td>GSW</td>\n",
       "      <td>12</td>\n",
       "      <td>327</td>\n",
       "      <td>39</td>\n",
       "      <td>...</td>\n",
       "      <td>131</td>\n",
       "      <td>22</td>\n",
       "      <td>6</td>\n",
       "      <td>18</td>\n",
       "      <td>22</td>\n",
       "      <td>39</td>\n",
       "      <td>86</td>\n",
       "      <td>198</td>\n",
       "      <td>1.00</td>\n",
       "      <td>0.27</td>\n",
       "    </tr>\n",
       "    <tr>\n",
       "      <th>1084</th>\n",
       "      <td>2013-14</td>\n",
       "      <td>Regular%20Season</td>\n",
       "      <td>203491</td>\n",
       "      <td>408</td>\n",
       "      <td>Peyton Siva</td>\n",
       "      <td>1610612765</td>\n",
       "      <td>DET</td>\n",
       "      <td>24</td>\n",
       "      <td>224</td>\n",
       "      <td>18</td>\n",
       "      <td>...</td>\n",
       "      <td>14</td>\n",
       "      <td>34</td>\n",
       "      <td>9</td>\n",
       "      <td>1</td>\n",
       "      <td>18</td>\n",
       "      <td>27</td>\n",
       "      <td>54</td>\n",
       "      <td>51</td>\n",
       "      <td>1.89</td>\n",
       "      <td>0.50</td>\n",
       "    </tr>\n",
       "    <tr>\n",
       "      <th>7849</th>\n",
       "      <td>2022-23</td>\n",
       "      <td>Playoffs</td>\n",
       "      <td>1629008</td>\n",
       "      <td>17</td>\n",
       "      <td>Michael Porter Jr.</td>\n",
       "      <td>1610612743</td>\n",
       "      <td>DEN</td>\n",
       "      <td>20</td>\n",
       "      <td>653</td>\n",
       "      <td>99</td>\n",
       "      <td>...</td>\n",
       "      <td>162</td>\n",
       "      <td>31</td>\n",
       "      <td>10</td>\n",
       "      <td>11</td>\n",
       "      <td>9</td>\n",
       "      <td>42</td>\n",
       "      <td>267</td>\n",
       "      <td>331</td>\n",
       "      <td>3.44</td>\n",
       "      <td>1.11</td>\n",
       "    </tr>\n",
       "    <tr>\n",
       "      <th>5132</th>\n",
       "      <td>2019-20</td>\n",
       "      <td>Regular%20Season</td>\n",
       "      <td>2730</td>\n",
       "      <td>186</td>\n",
       "      <td>Dwight Howard</td>\n",
       "      <td>1610612747</td>\n",
       "      <td>LAL</td>\n",
       "      <td>69</td>\n",
       "      <td>1306</td>\n",
       "      <td>202</td>\n",
       "      <td>...</td>\n",
       "      <td>507</td>\n",
       "      <td>45</td>\n",
       "      <td>31</td>\n",
       "      <td>79</td>\n",
       "      <td>84</td>\n",
       "      <td>222</td>\n",
       "      <td>517</td>\n",
       "      <td>916</td>\n",
       "      <td>0.54</td>\n",
       "      <td>0.37</td>\n",
       "    </tr>\n",
       "    <tr>\n",
       "      <th>3192</th>\n",
       "      <td>2016-17</td>\n",
       "      <td>Regular%20Season</td>\n",
       "      <td>201202</td>\n",
       "      <td>440</td>\n",
       "      <td>Joel Anthony</td>\n",
       "      <td>1610612759</td>\n",
       "      <td>SAS</td>\n",
       "      <td>19</td>\n",
       "      <td>122</td>\n",
       "      <td>10</td>\n",
       "      <td>...</td>\n",
       "      <td>31</td>\n",
       "      <td>3</td>\n",
       "      <td>2</td>\n",
       "      <td>6</td>\n",
       "      <td>4</td>\n",
       "      <td>11</td>\n",
       "      <td>25</td>\n",
       "      <td>54</td>\n",
       "      <td>0.75</td>\n",
       "      <td>0.50</td>\n",
       "    </tr>\n",
       "    <tr>\n",
       "      <th>6826</th>\n",
       "      <td>2021-22</td>\n",
       "      <td>Regular%20Season</td>\n",
       "      <td>202324</td>\n",
       "      <td>354</td>\n",
       "      <td>Derrick Favors</td>\n",
       "      <td>1610612760</td>\n",
       "      <td>OKC</td>\n",
       "      <td>39</td>\n",
       "      <td>652</td>\n",
       "      <td>94</td>\n",
       "      <td>...</td>\n",
       "      <td>184</td>\n",
       "      <td>25</td>\n",
       "      <td>17</td>\n",
       "      <td>12</td>\n",
       "      <td>9</td>\n",
       "      <td>62</td>\n",
       "      <td>206</td>\n",
       "      <td>338</td>\n",
       "      <td>2.78</td>\n",
       "      <td>1.89</td>\n",
       "    </tr>\n",
       "    <tr>\n",
       "      <th>7301</th>\n",
       "      <td>2022-23</td>\n",
       "      <td>Regular%20Season</td>\n",
       "      <td>1629027</td>\n",
       "      <td>9</td>\n",
       "      <td>Trae Young</td>\n",
       "      <td>1610612737</td>\n",
       "      <td>ATL</td>\n",
       "      <td>73</td>\n",
       "      <td>2541</td>\n",
       "      <td>597</td>\n",
       "      <td>...</td>\n",
       "      <td>217</td>\n",
       "      <td>741</td>\n",
       "      <td>80</td>\n",
       "      <td>9</td>\n",
       "      <td>300</td>\n",
       "      <td>104</td>\n",
       "      <td>1914</td>\n",
       "      <td>1795</td>\n",
       "      <td>2.47</td>\n",
       "      <td>0.27</td>\n",
       "    </tr>\n",
       "  </tbody>\n",
       "</table>\n",
       "<p>10 rows × 30 columns</p>\n",
       "</div>"
      ],
      "text/plain": [
       "         Year       Season_Type  PLAYER_ID  RANK              PLAYER  \\\n",
       "5245  2019-20  Regular%20Season     203473   300      Dewayne Dedmon   \n",
       "6890  2021-22  Regular%20Season    1626147   420     Justin Anderson   \n",
       "1075  2013-14  Regular%20Season     203546   399           Ian Clark   \n",
       "528   2012-13          Playoffs     101106    61        Andrew Bogut   \n",
       "1084  2013-14  Regular%20Season     203491   408         Peyton Siva   \n",
       "7849  2022-23          Playoffs    1629008    17  Michael Porter Jr.   \n",
       "5132  2019-20  Regular%20Season       2730   186       Dwight Howard   \n",
       "3192  2016-17  Regular%20Season     201202   440        Joel Anthony   \n",
       "6826  2021-22  Regular%20Season     202324   354      Derrick Favors   \n",
       "7301  2022-23  Regular%20Season    1629027     9          Trae Young   \n",
       "\n",
       "         TEAM_ID TEAM  GP   MIN  FGM  ...  REB  AST  STL  BLK  TOV   PF   PTS  \\\n",
       "5245  1610612737  ATL  44   774  102  ...  249   22   25   41   57  133   256   \n",
       "6890  1610612754  IND  16   316   36  ...   46   33    8    6    8   22   102   \n",
       "1075  1610612762  UTA  23   172   26  ...   19   15    8    2   14   24    68   \n",
       "528   1610612744  GSW  12   327   39  ...  131   22    6   18   22   39    86   \n",
       "1084  1610612765  DET  24   224   18  ...   14   34    9    1   18   27    54   \n",
       "7849  1610612743  DEN  20   653   99  ...  162   31   10   11    9   42   267   \n",
       "5132  1610612747  LAL  69  1306  202  ...  507   45   31   79   84  222   517   \n",
       "3192  1610612759  SAS  19   122   10  ...   31    3    2    6    4   11    25   \n",
       "6826  1610612760  OKC  39   652   94  ...  184   25   17   12    9   62   206   \n",
       "7301  1610612737  ATL  73  2541  597  ...  217  741   80    9  300  104  1914   \n",
       "\n",
       "       EFF  AST_TOV  STL_TOV  \n",
       "5245   377     0.39     0.44  \n",
       "6890   124     4.13     1.00  \n",
       "1075    55     1.07     0.57  \n",
       "528    198     1.00     0.27  \n",
       "1084    51     1.89     0.50  \n",
       "7849   331     3.44     1.11  \n",
       "5132   916     0.54     0.37  \n",
       "3192    54     0.75     0.50  \n",
       "6826   338     2.78     1.89  \n",
       "7301  1795     2.47     0.27  \n",
       "\n",
       "[10 rows x 30 columns]"
      ]
     },
     "execution_count": 50,
     "metadata": {},
     "output_type": "execute_result"
    }
   ],
   "source": [
    "data.sample(10)"
   ]
  },
  {
   "cell_type": "code",
   "execution_count": 51,
   "id": "4ab642b6",
   "metadata": {},
   "outputs": [
    {
     "data": {
      "text/plain": [
       "(8049, 30)"
      ]
     },
     "execution_count": 51,
     "metadata": {},
     "output_type": "execute_result"
    }
   ],
   "source": [
    "data.shape"
   ]
  },
  {
   "cell_type": "markdown",
   "id": "75e88886",
   "metadata": {},
   "source": [
    "## Data Cleaning"
   ]
  },
  {
   "cell_type": "code",
   "execution_count": 52,
   "id": "7d0d585e",
   "metadata": {
    "collapsed": true
   },
   "outputs": [
    {
     "data": {
      "text/plain": [
       "Year           0\n",
       "Season_Type    0\n",
       "PLAYER_ID      0\n",
       "RANK           0\n",
       "PLAYER         0\n",
       "TEAM_ID        0\n",
       "TEAM           0\n",
       "GP             0\n",
       "MIN            0\n",
       "FGM            0\n",
       "FGA            0\n",
       "FG_PCT         0\n",
       "FG3M           0\n",
       "FG3A           0\n",
       "FG3_PCT        0\n",
       "FTM            0\n",
       "FTA            0\n",
       "FT_PCT         0\n",
       "OREB           0\n",
       "DREB           0\n",
       "REB            0\n",
       "AST            0\n",
       "STL            0\n",
       "BLK            0\n",
       "TOV            0\n",
       "PF             0\n",
       "PTS            0\n",
       "EFF            0\n",
       "AST_TOV        0\n",
       "STL_TOV        0\n",
       "dtype: int64"
      ]
     },
     "execution_count": 52,
     "metadata": {},
     "output_type": "execute_result"
    }
   ],
   "source": [
    "data.isna().sum() # There aren't null values"
   ]
  },
  {
   "cell_type": "code",
   "execution_count": 53,
   "id": "901e8eea",
   "metadata": {
    "collapsed": true
   },
   "outputs": [
    {
     "data": {
      "text/plain": [
       "31"
      ]
     },
     "execution_count": 53,
     "metadata": {},
     "output_type": "execute_result"
    }
   ],
   "source": [
    "data.TEAM.nunique() # New Orleans Hornets became New Orleans Pelicans, so we are going to consider both as New Orleans"
   ]
  },
  {
   "cell_type": "code",
   "execution_count": 54,
   "id": "22095aef",
   "metadata": {},
   "outputs": [],
   "source": [
    "data.replace(['NOP', 'NOH'], 'NO', inplace=True)"
   ]
  },
  {
   "cell_type": "code",
   "execution_count": 55,
   "id": "fad96a7f",
   "metadata": {
    "collapsed": true
   },
   "outputs": [
    {
     "data": {
      "text/plain": [
       "array(['OKC', 'LAL', 'MIA', 'HOU', 'NYK', 'GSW', 'MIL', 'POR', 'TOR',\n",
       "       'BKN', 'CHA', 'LAC', 'BOS', 'UTA', 'PHI', 'IND', 'SAS', 'ATL',\n",
       "       'CLE', 'NO', 'DET', 'CHI', 'SAC', 'DAL', 'DEN', 'MEM', 'PHX',\n",
       "       'ORL', 'MIN', 'WAS'], dtype=object)"
      ]
     },
     "execution_count": 55,
     "metadata": {},
     "output_type": "execute_result"
    }
   ],
   "source": [
    "data.TEAM.unique() # Now there's only New Orleans"
   ]
  },
  {
   "cell_type": "code",
   "execution_count": 56,
   "id": "ea1792a0",
   "metadata": {},
   "outputs": [],
   "source": [
    "data['Season_Type'].replace('Regular%20Season', 'Regular', inplace=True) # Adjusting Regular season Alias"
   ]
  },
  {
   "cell_type": "code",
   "execution_count": 59,
   "id": "5ad7732a",
   "metadata": {
    "collapsed": true
   },
   "outputs": [
    {
     "data": {
      "text/plain": [
       "0       2012\n",
       "1       2012\n",
       "2       2012\n",
       "3       2012\n",
       "4       2012\n",
       "        ... \n",
       "8044    2022\n",
       "8045    2022\n",
       "8046    2022\n",
       "8047    2022\n",
       "8048    2022\n",
       "Name: Starting_Year, Length: 8049, dtype: int64"
      ]
     },
     "execution_count": 59,
     "metadata": {},
     "output_type": "execute_result"
    }
   ],
   "source": [
    "# Normalizing the Year so we can treat it as an integer\n",
    "data['Starting_Year'] = data['Year'].replace(['20' + str(i) + '-' + str(i+1) for i in range(12, 23)],\n",
    "             ['20' + str(j) for j in range(12, 23)])\n",
    "data['Starting_Year'].astype(int)"
   ]
  },
  {
   "cell_type": "code",
   "execution_count": 65,
   "id": "dc110c0a",
   "metadata": {
    "collapsed": true
   },
   "outputs": [
    {
     "data": {
      "text/html": [
       "<div>\n",
       "<style scoped>\n",
       "    .dataframe tbody tr th:only-of-type {\n",
       "        vertical-align: middle;\n",
       "    }\n",
       "\n",
       "    .dataframe tbody tr th {\n",
       "        vertical-align: top;\n",
       "    }\n",
       "\n",
       "    .dataframe thead th {\n",
       "        text-align: right;\n",
       "    }\n",
       "</style>\n",
       "<table border=\"1\" class=\"dataframe\">\n",
       "  <thead>\n",
       "    <tr style=\"text-align: right;\">\n",
       "      <th></th>\n",
       "      <th>Year</th>\n",
       "      <th>Season_Type</th>\n",
       "      <th>PLAYER_ID</th>\n",
       "      <th>RANK</th>\n",
       "      <th>PLAYER</th>\n",
       "      <th>TEAM_ID</th>\n",
       "      <th>TEAM</th>\n",
       "      <th>GP</th>\n",
       "      <th>MIN</th>\n",
       "      <th>FGM</th>\n",
       "      <th>...</th>\n",
       "      <th>DREB</th>\n",
       "      <th>REB</th>\n",
       "      <th>AST</th>\n",
       "      <th>STL</th>\n",
       "      <th>BLK</th>\n",
       "      <th>TOV</th>\n",
       "      <th>PF</th>\n",
       "      <th>PTS</th>\n",
       "      <th>EFF</th>\n",
       "      <th>Starting_Year</th>\n",
       "    </tr>\n",
       "  </thead>\n",
       "  <tbody>\n",
       "    <tr>\n",
       "      <th>0</th>\n",
       "      <td>2012-13</td>\n",
       "      <td>Regular</td>\n",
       "      <td>201142</td>\n",
       "      <td>1</td>\n",
       "      <td>Kevin Durant</td>\n",
       "      <td>1610612760</td>\n",
       "      <td>OKC</td>\n",
       "      <td>81</td>\n",
       "      <td>3119</td>\n",
       "      <td>731</td>\n",
       "      <td>...</td>\n",
       "      <td>594</td>\n",
       "      <td>640</td>\n",
       "      <td>374</td>\n",
       "      <td>116</td>\n",
       "      <td>105</td>\n",
       "      <td>280</td>\n",
       "      <td>143</td>\n",
       "      <td>2280</td>\n",
       "      <td>2462</td>\n",
       "      <td>2012</td>\n",
       "    </tr>\n",
       "    <tr>\n",
       "      <th>1</th>\n",
       "      <td>2012-13</td>\n",
       "      <td>Regular</td>\n",
       "      <td>977</td>\n",
       "      <td>2</td>\n",
       "      <td>Kobe Bryant</td>\n",
       "      <td>1610612747</td>\n",
       "      <td>LAL</td>\n",
       "      <td>78</td>\n",
       "      <td>3013</td>\n",
       "      <td>738</td>\n",
       "      <td>...</td>\n",
       "      <td>367</td>\n",
       "      <td>433</td>\n",
       "      <td>469</td>\n",
       "      <td>106</td>\n",
       "      <td>25</td>\n",
       "      <td>287</td>\n",
       "      <td>173</td>\n",
       "      <td>2133</td>\n",
       "      <td>1921</td>\n",
       "      <td>2012</td>\n",
       "    </tr>\n",
       "    <tr>\n",
       "      <th>2</th>\n",
       "      <td>2012-13</td>\n",
       "      <td>Regular</td>\n",
       "      <td>2544</td>\n",
       "      <td>3</td>\n",
       "      <td>LeBron James</td>\n",
       "      <td>1610612748</td>\n",
       "      <td>MIA</td>\n",
       "      <td>76</td>\n",
       "      <td>2877</td>\n",
       "      <td>765</td>\n",
       "      <td>...</td>\n",
       "      <td>513</td>\n",
       "      <td>610</td>\n",
       "      <td>551</td>\n",
       "      <td>129</td>\n",
       "      <td>67</td>\n",
       "      <td>226</td>\n",
       "      <td>110</td>\n",
       "      <td>2036</td>\n",
       "      <td>2446</td>\n",
       "      <td>2012</td>\n",
       "    </tr>\n",
       "    <tr>\n",
       "      <th>3</th>\n",
       "      <td>2012-13</td>\n",
       "      <td>Regular</td>\n",
       "      <td>201935</td>\n",
       "      <td>4</td>\n",
       "      <td>James Harden</td>\n",
       "      <td>1610612745</td>\n",
       "      <td>HOU</td>\n",
       "      <td>78</td>\n",
       "      <td>2985</td>\n",
       "      <td>585</td>\n",
       "      <td>...</td>\n",
       "      <td>317</td>\n",
       "      <td>379</td>\n",
       "      <td>455</td>\n",
       "      <td>142</td>\n",
       "      <td>38</td>\n",
       "      <td>295</td>\n",
       "      <td>178</td>\n",
       "      <td>2023</td>\n",
       "      <td>1872</td>\n",
       "      <td>2012</td>\n",
       "    </tr>\n",
       "    <tr>\n",
       "      <th>4</th>\n",
       "      <td>2012-13</td>\n",
       "      <td>Regular</td>\n",
       "      <td>2546</td>\n",
       "      <td>5</td>\n",
       "      <td>Carmelo Anthony</td>\n",
       "      <td>1610612752</td>\n",
       "      <td>NYK</td>\n",
       "      <td>67</td>\n",
       "      <td>2482</td>\n",
       "      <td>669</td>\n",
       "      <td>...</td>\n",
       "      <td>326</td>\n",
       "      <td>460</td>\n",
       "      <td>171</td>\n",
       "      <td>52</td>\n",
       "      <td>32</td>\n",
       "      <td>175</td>\n",
       "      <td>205</td>\n",
       "      <td>1920</td>\n",
       "      <td>1553</td>\n",
       "      <td>2012</td>\n",
       "    </tr>\n",
       "    <tr>\n",
       "      <th>...</th>\n",
       "      <td>...</td>\n",
       "      <td>...</td>\n",
       "      <td>...</td>\n",
       "      <td>...</td>\n",
       "      <td>...</td>\n",
       "      <td>...</td>\n",
       "      <td>...</td>\n",
       "      <td>...</td>\n",
       "      <td>...</td>\n",
       "      <td>...</td>\n",
       "      <td>...</td>\n",
       "      <td>...</td>\n",
       "      <td>...</td>\n",
       "      <td>...</td>\n",
       "      <td>...</td>\n",
       "      <td>...</td>\n",
       "      <td>...</td>\n",
       "      <td>...</td>\n",
       "      <td>...</td>\n",
       "      <td>...</td>\n",
       "      <td>...</td>\n",
       "    </tr>\n",
       "    <tr>\n",
       "      <th>8044</th>\n",
       "      <td>2022-23</td>\n",
       "      <td>Playoffs</td>\n",
       "      <td>203648</td>\n",
       "      <td>194</td>\n",
       "      <td>Thanasis Antetokounmpo</td>\n",
       "      <td>1610612749</td>\n",
       "      <td>MIL</td>\n",
       "      <td>2</td>\n",
       "      <td>5</td>\n",
       "      <td>0</td>\n",
       "      <td>...</td>\n",
       "      <td>0</td>\n",
       "      <td>0</td>\n",
       "      <td>0</td>\n",
       "      <td>0</td>\n",
       "      <td>0</td>\n",
       "      <td>0</td>\n",
       "      <td>0</td>\n",
       "      <td>0</td>\n",
       "      <td>0</td>\n",
       "      <td>2022</td>\n",
       "    </tr>\n",
       "    <tr>\n",
       "      <th>8045</th>\n",
       "      <td>2022-23</td>\n",
       "      <td>Playoffs</td>\n",
       "      <td>1628418</td>\n",
       "      <td>194</td>\n",
       "      <td>Thomas Bryant</td>\n",
       "      <td>1610612743</td>\n",
       "      <td>DEN</td>\n",
       "      <td>1</td>\n",
       "      <td>1</td>\n",
       "      <td>0</td>\n",
       "      <td>...</td>\n",
       "      <td>0</td>\n",
       "      <td>0</td>\n",
       "      <td>0</td>\n",
       "      <td>0</td>\n",
       "      <td>0</td>\n",
       "      <td>0</td>\n",
       "      <td>0</td>\n",
       "      <td>0</td>\n",
       "      <td>0</td>\n",
       "      <td>2022</td>\n",
       "    </tr>\n",
       "    <tr>\n",
       "      <th>8046</th>\n",
       "      <td>2022-23</td>\n",
       "      <td>Playoffs</td>\n",
       "      <td>2617</td>\n",
       "      <td>194</td>\n",
       "      <td>Udonis Haslem</td>\n",
       "      <td>1610612748</td>\n",
       "      <td>MIA</td>\n",
       "      <td>2</td>\n",
       "      <td>3</td>\n",
       "      <td>0</td>\n",
       "      <td>...</td>\n",
       "      <td>1</td>\n",
       "      <td>1</td>\n",
       "      <td>0</td>\n",
       "      <td>0</td>\n",
       "      <td>0</td>\n",
       "      <td>0</td>\n",
       "      <td>0</td>\n",
       "      <td>0</td>\n",
       "      <td>-2</td>\n",
       "      <td>2022</td>\n",
       "    </tr>\n",
       "    <tr>\n",
       "      <th>8047</th>\n",
       "      <td>2022-23</td>\n",
       "      <td>Playoffs</td>\n",
       "      <td>1628427</td>\n",
       "      <td>194</td>\n",
       "      <td>Vlatko Cancar</td>\n",
       "      <td>1610612743</td>\n",
       "      <td>DEN</td>\n",
       "      <td>5</td>\n",
       "      <td>10</td>\n",
       "      <td>0</td>\n",
       "      <td>...</td>\n",
       "      <td>3</td>\n",
       "      <td>3</td>\n",
       "      <td>1</td>\n",
       "      <td>0</td>\n",
       "      <td>0</td>\n",
       "      <td>0</td>\n",
       "      <td>0</td>\n",
       "      <td>0</td>\n",
       "      <td>-1</td>\n",
       "      <td>2022</td>\n",
       "    </tr>\n",
       "    <tr>\n",
       "      <th>8048</th>\n",
       "      <td>2022-23</td>\n",
       "      <td>Playoffs</td>\n",
       "      <td>1631111</td>\n",
       "      <td>194</td>\n",
       "      <td>Wendell Moore Jr.</td>\n",
       "      <td>1610612750</td>\n",
       "      <td>MIN</td>\n",
       "      <td>1</td>\n",
       "      <td>2</td>\n",
       "      <td>0</td>\n",
       "      <td>...</td>\n",
       "      <td>0</td>\n",
       "      <td>0</td>\n",
       "      <td>0</td>\n",
       "      <td>0</td>\n",
       "      <td>0</td>\n",
       "      <td>1</td>\n",
       "      <td>0</td>\n",
       "      <td>0</td>\n",
       "      <td>-1</td>\n",
       "      <td>2022</td>\n",
       "    </tr>\n",
       "  </tbody>\n",
       "</table>\n",
       "<p>8049 rows × 29 columns</p>\n",
       "</div>"
      ],
      "text/plain": [
       "         Year Season_Type  PLAYER_ID  RANK                  PLAYER  \\\n",
       "0     2012-13     Regular     201142     1            Kevin Durant   \n",
       "1     2012-13     Regular        977     2             Kobe Bryant   \n",
       "2     2012-13     Regular       2544     3            LeBron James   \n",
       "3     2012-13     Regular     201935     4            James Harden   \n",
       "4     2012-13     Regular       2546     5         Carmelo Anthony   \n",
       "...       ...         ...        ...   ...                     ...   \n",
       "8044  2022-23    Playoffs     203648   194  Thanasis Antetokounmpo   \n",
       "8045  2022-23    Playoffs    1628418   194           Thomas Bryant   \n",
       "8046  2022-23    Playoffs       2617   194           Udonis Haslem   \n",
       "8047  2022-23    Playoffs    1628427   194           Vlatko Cancar   \n",
       "8048  2022-23    Playoffs    1631111   194       Wendell Moore Jr.   \n",
       "\n",
       "         TEAM_ID TEAM  GP   MIN  FGM  ...  DREB  REB  AST  STL  BLK  TOV   PF  \\\n",
       "0     1610612760  OKC  81  3119  731  ...   594  640  374  116  105  280  143   \n",
       "1     1610612747  LAL  78  3013  738  ...   367  433  469  106   25  287  173   \n",
       "2     1610612748  MIA  76  2877  765  ...   513  610  551  129   67  226  110   \n",
       "3     1610612745  HOU  78  2985  585  ...   317  379  455  142   38  295  178   \n",
       "4     1610612752  NYK  67  2482  669  ...   326  460  171   52   32  175  205   \n",
       "...          ...  ...  ..   ...  ...  ...   ...  ...  ...  ...  ...  ...  ...   \n",
       "8044  1610612749  MIL   2     5    0  ...     0    0    0    0    0    0    0   \n",
       "8045  1610612743  DEN   1     1    0  ...     0    0    0    0    0    0    0   \n",
       "8046  1610612748  MIA   2     3    0  ...     1    1    0    0    0    0    0   \n",
       "8047  1610612743  DEN   5    10    0  ...     3    3    1    0    0    0    0   \n",
       "8048  1610612750  MIN   1     2    0  ...     0    0    0    0    0    1    0   \n",
       "\n",
       "       PTS   EFF  Starting_Year  \n",
       "0     2280  2462           2012  \n",
       "1     2133  1921           2012  \n",
       "2     2036  2446           2012  \n",
       "3     2023  1872           2012  \n",
       "4     1920  1553           2012  \n",
       "...    ...   ...            ...  \n",
       "8044     0     0           2022  \n",
       "8045     0     0           2022  \n",
       "8046     0    -2           2022  \n",
       "8047     0    -1           2022  \n",
       "8048     0    -1           2022  \n",
       "\n",
       "[8049 rows x 29 columns]"
      ]
     },
     "execution_count": 65,
     "metadata": {},
     "output_type": "execute_result"
    }
   ],
   "source": [
    "# Dropping columns that we aren't going to use in our analysis\n",
    "data.drop(columns = ['AST_TOV','STL_TOV'])"
   ]
  },
  {
   "cell_type": "code",
   "execution_count": 66,
   "id": "8f6feaec",
   "metadata": {},
   "outputs": [],
   "source": [
    "# Dividing our data into Regular Season and Playoffs\n",
    "regular_season_data = data[data['Season_Type'] == 'Regular']\n",
    "playoffs_data = data[data['Season_Type'] == 'Playoffs']"
   ]
  },
  {
   "cell_type": "markdown",
   "id": "523a16fe",
   "metadata": {},
   "source": [
    "## How did 3 point efficiency and volume changed among NBA stars throughout the years?"
   ]
  },
  {
   "cell_type": "markdown",
   "id": "da3e41b3",
   "metadata": {},
   "source": [
    "To elaborate this analysis, we are going to consider \"stars\" the 20 players with the highest Points Per Game with at least 1000 minutes and 60 games played in the determined season."
   ]
  },
  {
   "cell_type": "code",
   "execution_count": 105,
   "id": "4e6f8d7a",
   "metadata": {
    "collapsed": true
   },
   "outputs": [
    {
     "data": {
      "text/html": [
       "<div>\n",
       "<style scoped>\n",
       "    .dataframe tbody tr th:only-of-type {\n",
       "        vertical-align: middle;\n",
       "    }\n",
       "\n",
       "    .dataframe tbody tr th {\n",
       "        vertical-align: top;\n",
       "    }\n",
       "\n",
       "    .dataframe thead th {\n",
       "        text-align: right;\n",
       "    }\n",
       "</style>\n",
       "<table border=\"1\" class=\"dataframe\">\n",
       "  <thead>\n",
       "    <tr style=\"text-align: right;\">\n",
       "      <th></th>\n",
       "      <th>Starting_Year</th>\n",
       "      <th>RANK</th>\n",
       "      <th>GP</th>\n",
       "      <th>PLAYER</th>\n",
       "      <th>PLAYER_ID</th>\n",
       "      <th>MIN</th>\n",
       "      <th>FGA</th>\n",
       "      <th>FG3A</th>\n",
       "      <th>FG3M</th>\n",
       "      <th>PTS</th>\n",
       "    </tr>\n",
       "  </thead>\n",
       "  <tbody>\n",
       "    <tr>\n",
       "      <th>7071</th>\n",
       "      <td>2021</td>\n",
       "      <td>582</td>\n",
       "      <td>2</td>\n",
       "      <td>Nate Hinton</td>\n",
       "      <td>1630207</td>\n",
       "      <td>2</td>\n",
       "      <td>1</td>\n",
       "      <td>0</td>\n",
       "      <td>0</td>\n",
       "      <td>0</td>\n",
       "    </tr>\n",
       "    <tr>\n",
       "      <th>4974</th>\n",
       "      <td>2019</td>\n",
       "      <td>29</td>\n",
       "      <td>70</td>\n",
       "      <td>Chris Paul</td>\n",
       "      <td>101108</td>\n",
       "      <td>2208</td>\n",
       "      <td>887</td>\n",
       "      <td>304</td>\n",
       "      <td>111</td>\n",
       "      <td>1232</td>\n",
       "    </tr>\n",
       "    <tr>\n",
       "      <th>5244</th>\n",
       "      <td>2019</td>\n",
       "      <td>299</td>\n",
       "      <td>58</td>\n",
       "      <td>Ryan Arcidiacono</td>\n",
       "      <td>1627853</td>\n",
       "      <td>930</td>\n",
       "      <td>220</td>\n",
       "      <td>138</td>\n",
       "      <td>54</td>\n",
       "      <td>261</td>\n",
       "    </tr>\n",
       "    <tr>\n",
       "      <th>913</th>\n",
       "      <td>2013</td>\n",
       "      <td>235</td>\n",
       "      <td>60</td>\n",
       "      <td>Jordan Hamilton</td>\n",
       "      <td>202706</td>\n",
       "      <td>1020</td>\n",
       "      <td>376</td>\n",
       "      <td>198</td>\n",
       "      <td>70</td>\n",
       "      <td>404</td>\n",
       "    </tr>\n",
       "    <tr>\n",
       "      <th>1158</th>\n",
       "      <td>2013</td>\n",
       "      <td>475</td>\n",
       "      <td>3</td>\n",
       "      <td>Royce White</td>\n",
       "      <td>203091</td>\n",
       "      <td>9</td>\n",
       "      <td>1</td>\n",
       "      <td>0</td>\n",
       "      <td>0</td>\n",
       "      <td>0</td>\n",
       "    </tr>\n",
       "    <tr>\n",
       "      <th>3473</th>\n",
       "      <td>2017</td>\n",
       "      <td>20</td>\n",
       "      <td>80</td>\n",
       "      <td>Tobias Harris</td>\n",
       "      <td>202699</td>\n",
       "      <td>2668</td>\n",
       "      <td>1221</td>\n",
       "      <td>445</td>\n",
       "      <td>183</td>\n",
       "      <td>1486</td>\n",
       "    </tr>\n",
       "    <tr>\n",
       "      <th>5808</th>\n",
       "      <td>2020</td>\n",
       "      <td>117</td>\n",
       "      <td>68</td>\n",
       "      <td>Jeff Green</td>\n",
       "      <td>201145</td>\n",
       "      <td>1835</td>\n",
       "      <td>530</td>\n",
       "      <td>250</td>\n",
       "      <td>103</td>\n",
       "      <td>750</td>\n",
       "    </tr>\n",
       "    <tr>\n",
       "      <th>3212</th>\n",
       "      <td>2016</td>\n",
       "      <td>460</td>\n",
       "      <td>13</td>\n",
       "      <td>Alonzo Gee</td>\n",
       "      <td>202087</td>\n",
       "      <td>89</td>\n",
       "      <td>14</td>\n",
       "      <td>3</td>\n",
       "      <td>0</td>\n",
       "      <td>11</td>\n",
       "    </tr>\n",
       "    <tr>\n",
       "      <th>1130</th>\n",
       "      <td>2013</td>\n",
       "      <td>453</td>\n",
       "      <td>6</td>\n",
       "      <td>Othyus Jeffers</td>\n",
       "      <td>201785</td>\n",
       "      <td>47</td>\n",
       "      <td>6</td>\n",
       "      <td>2</td>\n",
       "      <td>0</td>\n",
       "      <td>9</td>\n",
       "    </tr>\n",
       "    <tr>\n",
       "      <th>6552</th>\n",
       "      <td>2021</td>\n",
       "      <td>82</td>\n",
       "      <td>64</td>\n",
       "      <td>Seth Curry</td>\n",
       "      <td>203552</td>\n",
       "      <td>2134</td>\n",
       "      <td>739</td>\n",
       "      <td>374</td>\n",
       "      <td>158</td>\n",
       "      <td>960</td>\n",
       "    </tr>\n",
       "    <tr>\n",
       "      <th>3125</th>\n",
       "      <td>2016</td>\n",
       "      <td>373</td>\n",
       "      <td>39</td>\n",
       "      <td>Darrun Hilliard</td>\n",
       "      <td>1626199</td>\n",
       "      <td>381</td>\n",
       "      <td>126</td>\n",
       "      <td>46</td>\n",
       "      <td>12</td>\n",
       "      <td>127</td>\n",
       "    </tr>\n",
       "    <tr>\n",
       "      <th>449</th>\n",
       "      <td>2012</td>\n",
       "      <td>449</td>\n",
       "      <td>13</td>\n",
       "      <td>Jarvis Varnado</td>\n",
       "      <td>202363</td>\n",
       "      <td>58</td>\n",
       "      <td>7</td>\n",
       "      <td>0</td>\n",
       "      <td>0</td>\n",
       "      <td>8</td>\n",
       "    </tr>\n",
       "  </tbody>\n",
       "</table>\n",
       "</div>"
      ],
      "text/plain": [
       "     Starting_Year  RANK  GP            PLAYER  PLAYER_ID   MIN   FGA  FG3A  \\\n",
       "7071          2021   582   2       Nate Hinton    1630207     2     1     0   \n",
       "4974          2019    29  70        Chris Paul     101108  2208   887   304   \n",
       "5244          2019   299  58  Ryan Arcidiacono    1627853   930   220   138   \n",
       "913           2013   235  60   Jordan Hamilton     202706  1020   376   198   \n",
       "1158          2013   475   3       Royce White     203091     9     1     0   \n",
       "3473          2017    20  80     Tobias Harris     202699  2668  1221   445   \n",
       "5808          2020   117  68        Jeff Green     201145  1835   530   250   \n",
       "3212          2016   460  13        Alonzo Gee     202087    89    14     3   \n",
       "1130          2013   453   6    Othyus Jeffers     201785    47     6     2   \n",
       "6552          2021    82  64        Seth Curry     203552  2134   739   374   \n",
       "3125          2016   373  39   Darrun Hilliard    1626199   381   126    46   \n",
       "449           2012   449  13    Jarvis Varnado     202363    58     7     0   \n",
       "\n",
       "      FG3M   PTS  \n",
       "7071     0     0  \n",
       "4974   111  1232  \n",
       "5244    54   261  \n",
       "913     70   404  \n",
       "1158     0     0  \n",
       "3473   183  1486  \n",
       "5808   103   750  \n",
       "3212     0    11  \n",
       "1130     0     9  \n",
       "6552   158   960  \n",
       "3125    12   127  \n",
       "449      0     8  "
      ]
     },
     "execution_count": 105,
     "metadata": {},
     "output_type": "execute_result"
    }
   ],
   "source": [
    "# Selecting the data that we are going to use for this query\n",
    "\n",
    "test_3pt_1 = regular_season_data[['Starting_Year', 'RANK', 'GP', 'PLAYER', 'PLAYER_ID', 'MIN', 'FGA', 'FG3A', 'FG3M', 'PTS']]\n",
    "test_3pt_1.sample(12)"
   ]
  },
  {
   "cell_type": "code",
   "execution_count": 176,
   "id": "8f6450be",
   "metadata": {
    "collapsed": true
   },
   "outputs": [
    {
     "name": "stderr",
     "output_type": "stream",
     "text": [
      "/tmp/ipykernel_79447/2873394340.py:4: SettingWithCopyWarning:\n",
      "\n",
      "\n",
      "A value is trying to be set on a copy of a slice from a DataFrame.\n",
      "Try using .loc[row_indexer,col_indexer] = value instead\n",
      "\n",
      "See the caveats in the documentation: https://pandas.pydata.org/pandas-docs/stable/user_guide/indexing.html#returning-a-view-versus-a-copy\n",
      "\n"
     ]
    },
    {
     "data": {
      "text/html": [
       "<div>\n",
       "<style scoped>\n",
       "    .dataframe tbody tr th:only-of-type {\n",
       "        vertical-align: middle;\n",
       "    }\n",
       "\n",
       "    .dataframe tbody tr th {\n",
       "        vertical-align: top;\n",
       "    }\n",
       "\n",
       "    .dataframe thead th {\n",
       "        text-align: right;\n",
       "    }\n",
       "</style>\n",
       "<table border=\"1\" class=\"dataframe\">\n",
       "  <thead>\n",
       "    <tr style=\"text-align: right;\">\n",
       "      <th></th>\n",
       "      <th>Starting_Year</th>\n",
       "      <th>RANK</th>\n",
       "      <th>GP</th>\n",
       "      <th>PLAYER</th>\n",
       "      <th>PLAYER_ID</th>\n",
       "      <th>MIN</th>\n",
       "      <th>FGA</th>\n",
       "      <th>FG3A</th>\n",
       "      <th>FG3M</th>\n",
       "      <th>PTS</th>\n",
       "      <th>PPG</th>\n",
       "    </tr>\n",
       "  </thead>\n",
       "  <tbody>\n",
       "    <tr>\n",
       "      <th>4</th>\n",
       "      <td>2012</td>\n",
       "      <td>5</td>\n",
       "      <td>67</td>\n",
       "      <td>Carmelo Anthony</td>\n",
       "      <td>2546</td>\n",
       "      <td>2482</td>\n",
       "      <td>1489</td>\n",
       "      <td>414</td>\n",
       "      <td>157</td>\n",
       "      <td>1920</td>\n",
       "      <td>28.66</td>\n",
       "    </tr>\n",
       "    <tr>\n",
       "      <th>0</th>\n",
       "      <td>2012</td>\n",
       "      <td>1</td>\n",
       "      <td>81</td>\n",
       "      <td>Kevin Durant</td>\n",
       "      <td>201142</td>\n",
       "      <td>3119</td>\n",
       "      <td>1433</td>\n",
       "      <td>334</td>\n",
       "      <td>139</td>\n",
       "      <td>2280</td>\n",
       "      <td>28.15</td>\n",
       "    </tr>\n",
       "    <tr>\n",
       "      <th>1</th>\n",
       "      <td>2012</td>\n",
       "      <td>2</td>\n",
       "      <td>78</td>\n",
       "      <td>Kobe Bryant</td>\n",
       "      <td>977</td>\n",
       "      <td>3013</td>\n",
       "      <td>1595</td>\n",
       "      <td>407</td>\n",
       "      <td>132</td>\n",
       "      <td>2133</td>\n",
       "      <td>27.35</td>\n",
       "    </tr>\n",
       "    <tr>\n",
       "      <th>2</th>\n",
       "      <td>2012</td>\n",
       "      <td>3</td>\n",
       "      <td>76</td>\n",
       "      <td>LeBron James</td>\n",
       "      <td>2544</td>\n",
       "      <td>2877</td>\n",
       "      <td>1354</td>\n",
       "      <td>254</td>\n",
       "      <td>103</td>\n",
       "      <td>2036</td>\n",
       "      <td>26.79</td>\n",
       "    </tr>\n",
       "    <tr>\n",
       "      <th>3</th>\n",
       "      <td>2012</td>\n",
       "      <td>4</td>\n",
       "      <td>78</td>\n",
       "      <td>James Harden</td>\n",
       "      <td>201935</td>\n",
       "      <td>2985</td>\n",
       "      <td>1337</td>\n",
       "      <td>486</td>\n",
       "      <td>179</td>\n",
       "      <td>2023</td>\n",
       "      <td>25.94</td>\n",
       "    </tr>\n",
       "    <tr>\n",
       "      <th>5</th>\n",
       "      <td>2012</td>\n",
       "      <td>6</td>\n",
       "      <td>82</td>\n",
       "      <td>Russell Westbrook</td>\n",
       "      <td>201566</td>\n",
       "      <td>2861</td>\n",
       "      <td>1535</td>\n",
       "      <td>300</td>\n",
       "      <td>97</td>\n",
       "      <td>1903</td>\n",
       "      <td>23.21</td>\n",
       "    </tr>\n",
       "    <tr>\n",
       "      <th>6</th>\n",
       "      <td>2012</td>\n",
       "      <td>7</td>\n",
       "      <td>78</td>\n",
       "      <td>Stephen Curry</td>\n",
       "      <td>201939</td>\n",
       "      <td>2983</td>\n",
       "      <td>1388</td>\n",
       "      <td>600</td>\n",
       "      <td>272</td>\n",
       "      <td>1786</td>\n",
       "      <td>22.90</td>\n",
       "    </tr>\n",
       "    <tr>\n",
       "      <th>12</th>\n",
       "      <td>2012</td>\n",
       "      <td>13</td>\n",
       "      <td>69</td>\n",
       "      <td>Dwyane Wade</td>\n",
       "      <td>2548</td>\n",
       "      <td>2391</td>\n",
       "      <td>1093</td>\n",
       "      <td>66</td>\n",
       "      <td>17</td>\n",
       "      <td>1463</td>\n",
       "      <td>21.20</td>\n",
       "    </tr>\n",
       "    <tr>\n",
       "      <th>9</th>\n",
       "      <td>2012</td>\n",
       "      <td>10</td>\n",
       "      <td>74</td>\n",
       "      <td>LaMarcus Aldridge</td>\n",
       "      <td>200746</td>\n",
       "      <td>2790</td>\n",
       "      <td>1318</td>\n",
       "      <td>14</td>\n",
       "      <td>2</td>\n",
       "      <td>1560</td>\n",
       "      <td>21.08</td>\n",
       "    </tr>\n",
       "    <tr>\n",
       "      <th>25</th>\n",
       "      <td>2012</td>\n",
       "      <td>26</td>\n",
       "      <td>66</td>\n",
       "      <td>Tony Parker</td>\n",
       "      <td>2225</td>\n",
       "      <td>2174</td>\n",
       "      <td>995</td>\n",
       "      <td>68</td>\n",
       "      <td>24</td>\n",
       "      <td>1341</td>\n",
       "      <td>20.32</td>\n",
       "    </tr>\n",
       "    <tr>\n",
       "      <th>17</th>\n",
       "      <td>2012</td>\n",
       "      <td>18</td>\n",
       "      <td>74</td>\n",
       "      <td>Brook Lopez</td>\n",
       "      <td>201572</td>\n",
       "      <td>2253</td>\n",
       "      <td>1094</td>\n",
       "      <td>1</td>\n",
       "      <td>0</td>\n",
       "      <td>1437</td>\n",
       "      <td>19.42</td>\n",
       "    </tr>\n",
       "    <tr>\n",
       "      <th>7</th>\n",
       "      <td>2012</td>\n",
       "      <td>8</td>\n",
       "      <td>82</td>\n",
       "      <td>Monta Ellis</td>\n",
       "      <td>101145</td>\n",
       "      <td>3076</td>\n",
       "      <td>1436</td>\n",
       "      <td>328</td>\n",
       "      <td>94</td>\n",
       "      <td>1577</td>\n",
       "      <td>19.23</td>\n",
       "    </tr>\n",
       "    <tr>\n",
       "      <th>8</th>\n",
       "      <td>2012</td>\n",
       "      <td>9</td>\n",
       "      <td>82</td>\n",
       "      <td>Damian Lillard</td>\n",
       "      <td>203081</td>\n",
       "      <td>3167</td>\n",
       "      <td>1288</td>\n",
       "      <td>503</td>\n",
       "      <td>185</td>\n",
       "      <td>1562</td>\n",
       "      <td>19.05</td>\n",
       "    </tr>\n",
       "    <tr>\n",
       "      <th>11</th>\n",
       "      <td>2012</td>\n",
       "      <td>12</td>\n",
       "      <td>78</td>\n",
       "      <td>Deron Williams</td>\n",
       "      <td>101114</td>\n",
       "      <td>2842</td>\n",
       "      <td>1124</td>\n",
       "      <td>447</td>\n",
       "      <td>169</td>\n",
       "      <td>1476</td>\n",
       "      <td>18.92</td>\n",
       "    </tr>\n",
       "    <tr>\n",
       "      <th>18</th>\n",
       "      <td>2012</td>\n",
       "      <td>19</td>\n",
       "      <td>77</td>\n",
       "      <td>Paul Pierce</td>\n",
       "      <td>1718</td>\n",
       "      <td>2575</td>\n",
       "      <td>1092</td>\n",
       "      <td>382</td>\n",
       "      <td>145</td>\n",
       "      <td>1430</td>\n",
       "      <td>18.57</td>\n",
       "    </tr>\n",
       "    <tr>\n",
       "      <th>13</th>\n",
       "      <td>2012</td>\n",
       "      <td>14</td>\n",
       "      <td>79</td>\n",
       "      <td>David Lee</td>\n",
       "      <td>101135</td>\n",
       "      <td>2907</td>\n",
       "      <td>1160</td>\n",
       "      <td>4</td>\n",
       "      <td>0</td>\n",
       "      <td>1459</td>\n",
       "      <td>18.47</td>\n",
       "    </tr>\n",
       "    <tr>\n",
       "      <th>23</th>\n",
       "      <td>2012</td>\n",
       "      <td>24</td>\n",
       "      <td>75</td>\n",
       "      <td>Rudy Gay</td>\n",
       "      <td>200752</td>\n",
       "      <td>2687</td>\n",
       "      <td>1253</td>\n",
       "      <td>260</td>\n",
       "      <td>84</td>\n",
       "      <td>1366</td>\n",
       "      <td>18.21</td>\n",
       "    </tr>\n",
       "    <tr>\n",
       "      <th>10</th>\n",
       "      <td>2012</td>\n",
       "      <td>11</td>\n",
       "      <td>82</td>\n",
       "      <td>DeMar DeRozan</td>\n",
       "      <td>201942</td>\n",
       "      <td>3013</td>\n",
       "      <td>1231</td>\n",
       "      <td>120</td>\n",
       "      <td>34</td>\n",
       "      <td>1485</td>\n",
       "      <td>18.11</td>\n",
       "    </tr>\n",
       "    <tr>\n",
       "      <th>15</th>\n",
       "      <td>2012</td>\n",
       "      <td>16</td>\n",
       "      <td>80</td>\n",
       "      <td>JR Smith</td>\n",
       "      <td>2747</td>\n",
       "      <td>2678</td>\n",
       "      <td>1249</td>\n",
       "      <td>436</td>\n",
       "      <td>155</td>\n",
       "      <td>1446</td>\n",
       "      <td>18.08</td>\n",
       "    </tr>\n",
       "    <tr>\n",
       "      <th>16</th>\n",
       "      <td>2012</td>\n",
       "      <td>17</td>\n",
       "      <td>80</td>\n",
       "      <td>Blake Griffin</td>\n",
       "      <td>201933</td>\n",
       "      <td>2598</td>\n",
       "      <td>1072</td>\n",
       "      <td>28</td>\n",
       "      <td>5</td>\n",
       "      <td>1440</td>\n",
       "      <td>18.00</td>\n",
       "    </tr>\n",
       "    <tr>\n",
       "      <th>677</th>\n",
       "      <td>2013</td>\n",
       "      <td>1</td>\n",
       "      <td>81</td>\n",
       "      <td>Kevin Durant</td>\n",
       "      <td>201142</td>\n",
       "      <td>3122</td>\n",
       "      <td>1688</td>\n",
       "      <td>491</td>\n",
       "      <td>192</td>\n",
       "      <td>2593</td>\n",
       "      <td>32.01</td>\n",
       "    </tr>\n",
       "    <tr>\n",
       "      <th>678</th>\n",
       "      <td>2013</td>\n",
       "      <td>2</td>\n",
       "      <td>77</td>\n",
       "      <td>Carmelo Anthony</td>\n",
       "      <td>2546</td>\n",
       "      <td>2982</td>\n",
       "      <td>1643</td>\n",
       "      <td>415</td>\n",
       "      <td>167</td>\n",
       "      <td>2112</td>\n",
       "      <td>27.43</td>\n",
       "    </tr>\n",
       "    <tr>\n",
       "      <th>679</th>\n",
       "      <td>2013</td>\n",
       "      <td>3</td>\n",
       "      <td>77</td>\n",
       "      <td>LeBron James</td>\n",
       "      <td>2544</td>\n",
       "      <td>2902</td>\n",
       "      <td>1353</td>\n",
       "      <td>306</td>\n",
       "      <td>116</td>\n",
       "      <td>2089</td>\n",
       "      <td>27.13</td>\n",
       "    </tr>\n",
       "    <tr>\n",
       "      <th>680</th>\n",
       "      <td>2013</td>\n",
       "      <td>4</td>\n",
       "      <td>77</td>\n",
       "      <td>Kevin Love</td>\n",
       "      <td>201567</td>\n",
       "      <td>2797</td>\n",
       "      <td>1421</td>\n",
       "      <td>505</td>\n",
       "      <td>190</td>\n",
       "      <td>2010</td>\n",
       "      <td>26.10</td>\n",
       "    </tr>\n",
       "    <tr>\n",
       "      <th>683</th>\n",
       "      <td>2013</td>\n",
       "      <td>7</td>\n",
       "      <td>73</td>\n",
       "      <td>James Harden</td>\n",
       "      <td>201935</td>\n",
       "      <td>2777</td>\n",
       "      <td>1205</td>\n",
       "      <td>483</td>\n",
       "      <td>177</td>\n",
       "      <td>1851</td>\n",
       "      <td>25.36</td>\n",
       "    </tr>\n",
       "    <tr>\n",
       "      <th>681</th>\n",
       "      <td>2013</td>\n",
       "      <td>5</td>\n",
       "      <td>80</td>\n",
       "      <td>Blake Griffin</td>\n",
       "      <td>201933</td>\n",
       "      <td>2863</td>\n",
       "      <td>1359</td>\n",
       "      <td>44</td>\n",
       "      <td>12</td>\n",
       "      <td>1930</td>\n",
       "      <td>24.12</td>\n",
       "    </tr>\n",
       "    <tr>\n",
       "      <th>682</th>\n",
       "      <td>2013</td>\n",
       "      <td>6</td>\n",
       "      <td>78</td>\n",
       "      <td>Stephen Curry</td>\n",
       "      <td>201939</td>\n",
       "      <td>2846</td>\n",
       "      <td>1383</td>\n",
       "      <td>615</td>\n",
       "      <td>261</td>\n",
       "      <td>1873</td>\n",
       "      <td>24.01</td>\n",
       "    </tr>\n",
       "    <tr>\n",
       "      <th>689</th>\n",
       "      <td>2013</td>\n",
       "      <td>13</td>\n",
       "      <td>69</td>\n",
       "      <td>LaMarcus Aldridge</td>\n",
       "      <td>200746</td>\n",
       "      <td>2499</td>\n",
       "      <td>1423</td>\n",
       "      <td>15</td>\n",
       "      <td>3</td>\n",
       "      <td>1603</td>\n",
       "      <td>23.23</td>\n",
       "    </tr>\n",
       "    <tr>\n",
       "      <th>688</th>\n",
       "      <td>2013</td>\n",
       "      <td>12</td>\n",
       "      <td>71</td>\n",
       "      <td>DeMarcus Cousins</td>\n",
       "      <td>202326</td>\n",
       "      <td>2298</td>\n",
       "      <td>1191</td>\n",
       "      <td>7</td>\n",
       "      <td>0</td>\n",
       "      <td>1614</td>\n",
       "      <td>22.73</td>\n",
       "    </tr>\n",
       "    <tr>\n",
       "      <th>684</th>\n",
       "      <td>2013</td>\n",
       "      <td>8</td>\n",
       "      <td>79</td>\n",
       "      <td>DeMar DeRozan</td>\n",
       "      <td>201942</td>\n",
       "      <td>3017</td>\n",
       "      <td>1407</td>\n",
       "      <td>210</td>\n",
       "      <td>64</td>\n",
       "      <td>1791</td>\n",
       "      <td>22.67</td>\n",
       "    </tr>\n",
       "    <tr>\n",
       "      <th>690</th>\n",
       "      <td>2013</td>\n",
       "      <td>14</td>\n",
       "      <td>73</td>\n",
       "      <td>Al Jefferson</td>\n",
       "      <td>2744</td>\n",
       "      <td>2553</td>\n",
       "      <td>1376</td>\n",
       "      <td>15</td>\n",
       "      <td>3</td>\n",
       "      <td>1594</td>\n",
       "      <td>21.84</td>\n",
       "    </tr>\n",
       "    <tr>\n",
       "      <th>685</th>\n",
       "      <td>2013</td>\n",
       "      <td>9</td>\n",
       "      <td>80</td>\n",
       "      <td>Paul George</td>\n",
       "      <td>202331</td>\n",
       "      <td>2898</td>\n",
       "      <td>1362</td>\n",
       "      <td>500</td>\n",
       "      <td>182</td>\n",
       "      <td>1737</td>\n",
       "      <td>21.71</td>\n",
       "    </tr>\n",
       "    <tr>\n",
       "      <th>686</th>\n",
       "      <td>2013</td>\n",
       "      <td>10</td>\n",
       "      <td>80</td>\n",
       "      <td>Dirk Nowitzki</td>\n",
       "      <td>1717</td>\n",
       "      <td>2628</td>\n",
       "      <td>1273</td>\n",
       "      <td>329</td>\n",
       "      <td>131</td>\n",
       "      <td>1735</td>\n",
       "      <td>21.69</td>\n",
       "    </tr>\n",
       "    <tr>\n",
       "      <th>695</th>\n",
       "      <td>2013</td>\n",
       "      <td>19</td>\n",
       "      <td>71</td>\n",
       "      <td>Kyrie Irving</td>\n",
       "      <td>202681</td>\n",
       "      <td>2496</td>\n",
       "      <td>1237</td>\n",
       "      <td>344</td>\n",
       "      <td>123</td>\n",
       "      <td>1478</td>\n",
       "      <td>20.82</td>\n",
       "    </tr>\n",
       "    <tr>\n",
       "      <th>700</th>\n",
       "      <td>2013</td>\n",
       "      <td>24</td>\n",
       "      <td>67</td>\n",
       "      <td>Anthony Davis</td>\n",
       "      <td>203076</td>\n",
       "      <td>2358</td>\n",
       "      <td>1005</td>\n",
       "      <td>9</td>\n",
       "      <td>2</td>\n",
       "      <td>1394</td>\n",
       "      <td>20.81</td>\n",
       "    </tr>\n",
       "    <tr>\n",
       "      <th>687</th>\n",
       "      <td>2013</td>\n",
       "      <td>11</td>\n",
       "      <td>82</td>\n",
       "      <td>Damian Lillard</td>\n",
       "      <td>203081</td>\n",
       "      <td>2937</td>\n",
       "      <td>1304</td>\n",
       "      <td>554</td>\n",
       "      <td>218</td>\n",
       "      <td>1695</td>\n",
       "      <td>20.67</td>\n",
       "    </tr>\n",
       "    <tr>\n",
       "      <th>696</th>\n",
       "      <td>2013</td>\n",
       "      <td>20</td>\n",
       "      <td>72</td>\n",
       "      <td>Isaiah Thomas</td>\n",
       "      <td>202738</td>\n",
       "      <td>2497</td>\n",
       "      <td>1096</td>\n",
       "      <td>364</td>\n",
       "      <td>127</td>\n",
       "      <td>1465</td>\n",
       "      <td>20.35</td>\n",
       "    </tr>\n",
       "    <tr>\n",
       "      <th>693</th>\n",
       "      <td>2013</td>\n",
       "      <td>17</td>\n",
       "      <td>76</td>\n",
       "      <td>Goran Dragic</td>\n",
       "      <td>201609</td>\n",
       "      <td>2668</td>\n",
       "      <td>1093</td>\n",
       "      <td>299</td>\n",
       "      <td>122</td>\n",
       "      <td>1542</td>\n",
       "      <td>20.29</td>\n",
       "    </tr>\n",
       "    <tr>\n",
       "      <th>697</th>\n",
       "      <td>2013</td>\n",
       "      <td>21</td>\n",
       "      <td>73</td>\n",
       "      <td>Rudy Gay</td>\n",
       "      <td>200752</td>\n",
       "      <td>2531</td>\n",
       "      <td>1179</td>\n",
       "      <td>197</td>\n",
       "      <td>65</td>\n",
       "      <td>1457</td>\n",
       "      <td>19.96</td>\n",
       "    </tr>\n",
       "    <tr>\n",
       "      <th>691</th>\n",
       "      <td>2013</td>\n",
       "      <td>15</td>\n",
       "      <td>82</td>\n",
       "      <td>John Wall</td>\n",
       "      <td>202322</td>\n",
       "      <td>2980</td>\n",
       "      <td>1337</td>\n",
       "      <td>308</td>\n",
       "      <td>108</td>\n",
       "      <td>1583</td>\n",
       "      <td>19.30</td>\n",
       "    </tr>\n",
       "  </tbody>\n",
       "</table>\n",
       "</div>"
      ],
      "text/plain": [
       "    Starting_Year  RANK  GP             PLAYER  PLAYER_ID   MIN   FGA  FG3A  \\\n",
       "4            2012     5  67    Carmelo Anthony       2546  2482  1489   414   \n",
       "0            2012     1  81       Kevin Durant     201142  3119  1433   334   \n",
       "1            2012     2  78        Kobe Bryant        977  3013  1595   407   \n",
       "2            2012     3  76       LeBron James       2544  2877  1354   254   \n",
       "3            2012     4  78       James Harden     201935  2985  1337   486   \n",
       "5            2012     6  82  Russell Westbrook     201566  2861  1535   300   \n",
       "6            2012     7  78      Stephen Curry     201939  2983  1388   600   \n",
       "12           2012    13  69        Dwyane Wade       2548  2391  1093    66   \n",
       "9            2012    10  74  LaMarcus Aldridge     200746  2790  1318    14   \n",
       "25           2012    26  66        Tony Parker       2225  2174   995    68   \n",
       "17           2012    18  74        Brook Lopez     201572  2253  1094     1   \n",
       "7            2012     8  82        Monta Ellis     101145  3076  1436   328   \n",
       "8            2012     9  82     Damian Lillard     203081  3167  1288   503   \n",
       "11           2012    12  78     Deron Williams     101114  2842  1124   447   \n",
       "18           2012    19  77        Paul Pierce       1718  2575  1092   382   \n",
       "13           2012    14  79          David Lee     101135  2907  1160     4   \n",
       "23           2012    24  75           Rudy Gay     200752  2687  1253   260   \n",
       "10           2012    11  82      DeMar DeRozan     201942  3013  1231   120   \n",
       "15           2012    16  80           JR Smith       2747  2678  1249   436   \n",
       "16           2012    17  80      Blake Griffin     201933  2598  1072    28   \n",
       "677          2013     1  81       Kevin Durant     201142  3122  1688   491   \n",
       "678          2013     2  77    Carmelo Anthony       2546  2982  1643   415   \n",
       "679          2013     3  77       LeBron James       2544  2902  1353   306   \n",
       "680          2013     4  77         Kevin Love     201567  2797  1421   505   \n",
       "683          2013     7  73       James Harden     201935  2777  1205   483   \n",
       "681          2013     5  80      Blake Griffin     201933  2863  1359    44   \n",
       "682          2013     6  78      Stephen Curry     201939  2846  1383   615   \n",
       "689          2013    13  69  LaMarcus Aldridge     200746  2499  1423    15   \n",
       "688          2013    12  71   DeMarcus Cousins     202326  2298  1191     7   \n",
       "684          2013     8  79      DeMar DeRozan     201942  3017  1407   210   \n",
       "690          2013    14  73       Al Jefferson       2744  2553  1376    15   \n",
       "685          2013     9  80        Paul George     202331  2898  1362   500   \n",
       "686          2013    10  80      Dirk Nowitzki       1717  2628  1273   329   \n",
       "695          2013    19  71       Kyrie Irving     202681  2496  1237   344   \n",
       "700          2013    24  67      Anthony Davis     203076  2358  1005     9   \n",
       "687          2013    11  82     Damian Lillard     203081  2937  1304   554   \n",
       "696          2013    20  72      Isaiah Thomas     202738  2497  1096   364   \n",
       "693          2013    17  76       Goran Dragic     201609  2668  1093   299   \n",
       "697          2013    21  73           Rudy Gay     200752  2531  1179   197   \n",
       "691          2013    15  82          John Wall     202322  2980  1337   308   \n",
       "\n",
       "     FG3M   PTS    PPG  \n",
       "4     157  1920  28.66  \n",
       "0     139  2280  28.15  \n",
       "1     132  2133  27.35  \n",
       "2     103  2036  26.79  \n",
       "3     179  2023  25.94  \n",
       "5      97  1903  23.21  \n",
       "6     272  1786  22.90  \n",
       "12     17  1463  21.20  \n",
       "9       2  1560  21.08  \n",
       "25     24  1341  20.32  \n",
       "17      0  1437  19.42  \n",
       "7      94  1577  19.23  \n",
       "8     185  1562  19.05  \n",
       "11    169  1476  18.92  \n",
       "18    145  1430  18.57  \n",
       "13      0  1459  18.47  \n",
       "23     84  1366  18.21  \n",
       "10     34  1485  18.11  \n",
       "15    155  1446  18.08  \n",
       "16      5  1440  18.00  \n",
       "677   192  2593  32.01  \n",
       "678   167  2112  27.43  \n",
       "679   116  2089  27.13  \n",
       "680   190  2010  26.10  \n",
       "683   177  1851  25.36  \n",
       "681    12  1930  24.12  \n",
       "682   261  1873  24.01  \n",
       "689     3  1603  23.23  \n",
       "688     0  1614  22.73  \n",
       "684    64  1791  22.67  \n",
       "690     3  1594  21.84  \n",
       "685   182  1737  21.71  \n",
       "686   131  1735  21.69  \n",
       "695   123  1478  20.82  \n",
       "700     2  1394  20.81  \n",
       "687   218  1695  20.67  \n",
       "696   127  1465  20.35  \n",
       "693   122  1542  20.29  \n",
       "697    65  1457  19.96  \n",
       "691   108  1583  19.30  "
      ]
     },
     "execution_count": 176,
     "metadata": {},
     "output_type": "execute_result"
    }
   ],
   "source": [
    "# Filtering the stars that meet the designed criteria\n",
    "\n",
    "test_3pt_2 = test_3pt_1.query('MIN > 1000 and GP > 60')\n",
    "test_3pt_2['PPG'] = round(test_3pt_2.loc[:, ('PTS')].astype(int)/test_3pt_2.loc[:, ('GP')].astype(int), 2)\n",
    "test_3pt_2.sort_values(by=['Starting_Year', 'PPG'], ascending=[True, False])\n",
    "test_3pt_2 = test_3pt_2.groupby('Starting_Year', group_keys=False, as_index=False).apply(lambda x: x.nlargest(20, 'PPG'))\n",
    "test_3pt_2.head(40)"
   ]
  },
  {
   "cell_type": "code",
   "execution_count": 205,
   "id": "d1fba1e7",
   "metadata": {
    "collapsed": true
   },
   "outputs": [
    {
     "data": {
      "text/plain": [
       "Starting_Year\n",
       "2012    1538\n",
       "2013    1518\n",
       "2014    1464\n",
       "2015    1514\n",
       "2016    1524\n",
       "2017    1535\n",
       "2018    1487\n",
       "2019    1320\n",
       "2020    1308\n",
       "2021    1377\n",
       "2022    1389\n",
       "Name: GP, dtype: int64"
      ]
     },
     "execution_count": 205,
     "metadata": {},
     "output_type": "execute_result"
    }
   ],
   "source": [
    "# Getting the total Games Played by the stars per year\n",
    "\n",
    "test_3pt_3 = (test_3pt_2[['PLAYER_ID','Starting_Year', 'GP', 'FG3A', 'FG3M']]).groupby('Starting_Year')\n",
    "tot_games_per_year = test_3pt_3['GP'].sum()\n",
    "tot_games_per_year"
   ]
  },
  {
   "cell_type": "code",
   "execution_count": 206,
   "id": "1b63536b",
   "metadata": {
    "collapsed": true
   },
   "outputs": [
    {
     "name": "stdout",
     "output_type": "stream",
     "text": [
      "Starting_Year\n",
      "2012    5452\n",
      "2013    6010\n",
      "2014    5614\n",
      "2015    7914\n",
      "2016    8629\n",
      "2017    8321\n",
      "2018    9276\n",
      "2019    7858\n",
      "2020    7416\n",
      "2021    8864\n",
      "2022    7643\n",
      "Name: FG3A, dtype: int64 Starting_Year\n",
      "2012    1993\n",
      "2013    2263\n",
      "2014    2091\n",
      "2015    2994\n",
      "2016    3241\n",
      "2017    3083\n",
      "2018    3390\n",
      "2019    2861\n",
      "2020    2757\n",
      "2021    3241\n",
      "2022    2707\n",
      "Name: FG3M, dtype: int64\n"
     ]
    }
   ],
   "source": [
    "# Getting the total 3 point Field Goals Attempted and Made by the stars per year\n",
    "\n",
    "tot_3ptfga_per_year = test_3pt_3['FG3A'].sum()\n",
    "tot_3ptfgm_per_year = test_3pt_3['FG3M'].sum()\n",
    "print(tot_3ptfga_per_year, tot_3ptfgm_per_year)"
   ]
  },
  {
   "cell_type": "code",
   "execution_count": 211,
   "id": "99acc7c1",
   "metadata": {},
   "outputs": [],
   "source": [
    "# Calculating the Average 3 point field goal attempteds per game for each year\n",
    "\n",
    "avg_3ptfga_game_test = round((tot_3ptfga_per_year/tot_games_per_year).rename(\"FG3A_per_Game\"), 2)"
   ]
  },
  {
   "cell_type": "code",
   "execution_count": 218,
   "id": "deedcca6",
   "metadata": {},
   "outputs": [],
   "source": [
    "# Calculating the 3 point Field Goal percentage by the stars for each year\n",
    "\n",
    "avg_3pt_percentage_test = round((tot_3ptfgm_per_year/tot_3ptfga_per_year).rename(\"FG3%\"),3)"
   ]
  },
  {
   "cell_type": "code",
   "execution_count": 219,
   "id": "a832cddc",
   "metadata": {
    "collapsed": true
   },
   "outputs": [
    {
     "data": {
      "text/html": [
       "<div>\n",
       "<style scoped>\n",
       "    .dataframe tbody tr th:only-of-type {\n",
       "        vertical-align: middle;\n",
       "    }\n",
       "\n",
       "    .dataframe tbody tr th {\n",
       "        vertical-align: top;\n",
       "    }\n",
       "\n",
       "    .dataframe thead th {\n",
       "        text-align: right;\n",
       "    }\n",
       "</style>\n",
       "<table border=\"1\" class=\"dataframe\">\n",
       "  <thead>\n",
       "    <tr style=\"text-align: right;\">\n",
       "      <th></th>\n",
       "      <th>FG3A_per_Game</th>\n",
       "      <th>FG3%</th>\n",
       "    </tr>\n",
       "    <tr>\n",
       "      <th>Starting_Year</th>\n",
       "      <th></th>\n",
       "      <th></th>\n",
       "    </tr>\n",
       "  </thead>\n",
       "  <tbody>\n",
       "    <tr>\n",
       "      <th>2012</th>\n",
       "      <td>3.54</td>\n",
       "      <td>0.366</td>\n",
       "    </tr>\n",
       "    <tr>\n",
       "      <th>2013</th>\n",
       "      <td>3.96</td>\n",
       "      <td>0.377</td>\n",
       "    </tr>\n",
       "    <tr>\n",
       "      <th>2014</th>\n",
       "      <td>3.83</td>\n",
       "      <td>0.372</td>\n",
       "    </tr>\n",
       "    <tr>\n",
       "      <th>2015</th>\n",
       "      <td>5.23</td>\n",
       "      <td>0.378</td>\n",
       "    </tr>\n",
       "    <tr>\n",
       "      <th>2016</th>\n",
       "      <td>5.66</td>\n",
       "      <td>0.376</td>\n",
       "    </tr>\n",
       "    <tr>\n",
       "      <th>2017</th>\n",
       "      <td>5.42</td>\n",
       "      <td>0.371</td>\n",
       "    </tr>\n",
       "    <tr>\n",
       "      <th>2018</th>\n",
       "      <td>6.24</td>\n",
       "      <td>0.365</td>\n",
       "    </tr>\n",
       "    <tr>\n",
       "      <th>2019</th>\n",
       "      <td>5.95</td>\n",
       "      <td>0.364</td>\n",
       "    </tr>\n",
       "    <tr>\n",
       "      <th>2020</th>\n",
       "      <td>5.67</td>\n",
       "      <td>0.372</td>\n",
       "    </tr>\n",
       "    <tr>\n",
       "      <th>2021</th>\n",
       "      <td>6.44</td>\n",
       "      <td>0.366</td>\n",
       "    </tr>\n",
       "    <tr>\n",
       "      <th>2022</th>\n",
       "      <td>5.50</td>\n",
       "      <td>0.354</td>\n",
       "    </tr>\n",
       "  </tbody>\n",
       "</table>\n",
       "</div>"
      ],
      "text/plain": [
       "               FG3A_per_Game   FG3%\n",
       "Starting_Year                      \n",
       "2012                    3.54  0.366\n",
       "2013                    3.96  0.377\n",
       "2014                    3.83  0.372\n",
       "2015                    5.23  0.378\n",
       "2016                    5.66  0.376\n",
       "2017                    5.42  0.371\n",
       "2018                    6.24  0.365\n",
       "2019                    5.95  0.364\n",
       "2020                    5.67  0.372\n",
       "2021                    6.44  0.366\n",
       "2022                    5.50  0.354"
      ]
     },
     "execution_count": 219,
     "metadata": {},
     "output_type": "execute_result"
    }
   ],
   "source": [
    "# Concatenating our data\n",
    "\n",
    "final_data_3pt = pd.merge(avg_3ptfga_game_test, avg_3pt_percentage_test, left_index=True, right_index=True)\n",
    "final_data_3pt"
   ]
  },
  {
   "cell_type": "code",
   "execution_count": 222,
   "id": "cf09c0dc",
   "metadata": {},
   "outputs": [],
   "source": [
    "final_data_3pt.reset_index(inplace=True)"
   ]
  },
  {
   "cell_type": "code",
   "execution_count": 226,
   "id": "0294578c",
   "metadata": {},
   "outputs": [
    {
     "data": {
      "application/vnd.plotly.v1+json": {
       "config": {
        "plotlyServerURL": "https://plot.ly"
       },
       "data": [
        {
         "hovertemplate": "Starting_Year=2012<br>FG3%=%{x}<br>FG3A_per_Game=%{y}<extra></extra>",
         "legendgroup": "2012",
         "marker": {
          "color": "#636efa",
          "symbol": "circle"
         },
         "mode": "markers",
         "name": "2012",
         "orientation": "v",
         "showlegend": true,
         "type": "scatter",
         "x": [
          0.366
         ],
         "xaxis": "x",
         "y": [
          3.54
         ],
         "yaxis": "y"
        },
        {
         "hovertemplate": "Starting_Year=2013<br>FG3%=%{x}<br>FG3A_per_Game=%{y}<extra></extra>",
         "legendgroup": "2013",
         "marker": {
          "color": "#EF553B",
          "symbol": "circle"
         },
         "mode": "markers",
         "name": "2013",
         "orientation": "v",
         "showlegend": true,
         "type": "scatter",
         "x": [
          0.377
         ],
         "xaxis": "x",
         "y": [
          3.96
         ],
         "yaxis": "y"
        },
        {
         "hovertemplate": "Starting_Year=2014<br>FG3%=%{x}<br>FG3A_per_Game=%{y}<extra></extra>",
         "legendgroup": "2014",
         "marker": {
          "color": "#00cc96",
          "symbol": "circle"
         },
         "mode": "markers",
         "name": "2014",
         "orientation": "v",
         "showlegend": true,
         "type": "scatter",
         "x": [
          0.372
         ],
         "xaxis": "x",
         "y": [
          3.83
         ],
         "yaxis": "y"
        },
        {
         "hovertemplate": "Starting_Year=2015<br>FG3%=%{x}<br>FG3A_per_Game=%{y}<extra></extra>",
         "legendgroup": "2015",
         "marker": {
          "color": "#ab63fa",
          "symbol": "circle"
         },
         "mode": "markers",
         "name": "2015",
         "orientation": "v",
         "showlegend": true,
         "type": "scatter",
         "x": [
          0.378
         ],
         "xaxis": "x",
         "y": [
          5.23
         ],
         "yaxis": "y"
        },
        {
         "hovertemplate": "Starting_Year=2016<br>FG3%=%{x}<br>FG3A_per_Game=%{y}<extra></extra>",
         "legendgroup": "2016",
         "marker": {
          "color": "#FFA15A",
          "symbol": "circle"
         },
         "mode": "markers",
         "name": "2016",
         "orientation": "v",
         "showlegend": true,
         "type": "scatter",
         "x": [
          0.376
         ],
         "xaxis": "x",
         "y": [
          5.66
         ],
         "yaxis": "y"
        },
        {
         "hovertemplate": "Starting_Year=2017<br>FG3%=%{x}<br>FG3A_per_Game=%{y}<extra></extra>",
         "legendgroup": "2017",
         "marker": {
          "color": "#19d3f3",
          "symbol": "circle"
         },
         "mode": "markers",
         "name": "2017",
         "orientation": "v",
         "showlegend": true,
         "type": "scatter",
         "x": [
          0.371
         ],
         "xaxis": "x",
         "y": [
          5.42
         ],
         "yaxis": "y"
        },
        {
         "hovertemplate": "Starting_Year=2018<br>FG3%=%{x}<br>FG3A_per_Game=%{y}<extra></extra>",
         "legendgroup": "2018",
         "marker": {
          "color": "#FF6692",
          "symbol": "circle"
         },
         "mode": "markers",
         "name": "2018",
         "orientation": "v",
         "showlegend": true,
         "type": "scatter",
         "x": [
          0.365
         ],
         "xaxis": "x",
         "y": [
          6.24
         ],
         "yaxis": "y"
        },
        {
         "hovertemplate": "Starting_Year=2019<br>FG3%=%{x}<br>FG3A_per_Game=%{y}<extra></extra>",
         "legendgroup": "2019",
         "marker": {
          "color": "#B6E880",
          "symbol": "circle"
         },
         "mode": "markers",
         "name": "2019",
         "orientation": "v",
         "showlegend": true,
         "type": "scatter",
         "x": [
          0.364
         ],
         "xaxis": "x",
         "y": [
          5.95
         ],
         "yaxis": "y"
        },
        {
         "hovertemplate": "Starting_Year=2020<br>FG3%=%{x}<br>FG3A_per_Game=%{y}<extra></extra>",
         "legendgroup": "2020",
         "marker": {
          "color": "#FF97FF",
          "symbol": "circle"
         },
         "mode": "markers",
         "name": "2020",
         "orientation": "v",
         "showlegend": true,
         "type": "scatter",
         "x": [
          0.372
         ],
         "xaxis": "x",
         "y": [
          5.67
         ],
         "yaxis": "y"
        },
        {
         "hovertemplate": "Starting_Year=2021<br>FG3%=%{x}<br>FG3A_per_Game=%{y}<extra></extra>",
         "legendgroup": "2021",
         "marker": {
          "color": "#FECB52",
          "symbol": "circle"
         },
         "mode": "markers",
         "name": "2021",
         "orientation": "v",
         "showlegend": true,
         "type": "scatter",
         "x": [
          0.366
         ],
         "xaxis": "x",
         "y": [
          6.44
         ],
         "yaxis": "y"
        },
        {
         "hovertemplate": "Starting_Year=2022<br>FG3%=%{x}<br>FG3A_per_Game=%{y}<extra></extra>",
         "legendgroup": "2022",
         "marker": {
          "color": "#636efa",
          "symbol": "circle"
         },
         "mode": "markers",
         "name": "2022",
         "orientation": "v",
         "showlegend": true,
         "type": "scatter",
         "x": [
          0.354
         ],
         "xaxis": "x",
         "y": [
          5.5
         ],
         "yaxis": "y"
        }
       ],
       "layout": {
        "legend": {
         "title": {
          "text": "Starting_Year"
         },
         "tracegroupgap": 0
        },
        "margin": {
         "t": 60
        },
        "template": {
         "data": {
          "bar": [
           {
            "error_x": {
             "color": "#2a3f5f"
            },
            "error_y": {
             "color": "#2a3f5f"
            },
            "marker": {
             "line": {
              "color": "#E5ECF6",
              "width": 0.5
             },
             "pattern": {
              "fillmode": "overlay",
              "size": 10,
              "solidity": 0.2
             }
            },
            "type": "bar"
           }
          ],
          "barpolar": [
           {
            "marker": {
             "line": {
              "color": "#E5ECF6",
              "width": 0.5
             },
             "pattern": {
              "fillmode": "overlay",
              "size": 10,
              "solidity": 0.2
             }
            },
            "type": "barpolar"
           }
          ],
          "carpet": [
           {
            "aaxis": {
             "endlinecolor": "#2a3f5f",
             "gridcolor": "white",
             "linecolor": "white",
             "minorgridcolor": "white",
             "startlinecolor": "#2a3f5f"
            },
            "baxis": {
             "endlinecolor": "#2a3f5f",
             "gridcolor": "white",
             "linecolor": "white",
             "minorgridcolor": "white",
             "startlinecolor": "#2a3f5f"
            },
            "type": "carpet"
           }
          ],
          "choropleth": [
           {
            "colorbar": {
             "outlinewidth": 0,
             "ticks": ""
            },
            "type": "choropleth"
           }
          ],
          "contour": [
           {
            "colorbar": {
             "outlinewidth": 0,
             "ticks": ""
            },
            "colorscale": [
             [
              0,
              "#0d0887"
             ],
             [
              0.1111111111111111,
              "#46039f"
             ],
             [
              0.2222222222222222,
              "#7201a8"
             ],
             [
              0.3333333333333333,
              "#9c179e"
             ],
             [
              0.4444444444444444,
              "#bd3786"
             ],
             [
              0.5555555555555556,
              "#d8576b"
             ],
             [
              0.6666666666666666,
              "#ed7953"
             ],
             [
              0.7777777777777778,
              "#fb9f3a"
             ],
             [
              0.8888888888888888,
              "#fdca26"
             ],
             [
              1,
              "#f0f921"
             ]
            ],
            "type": "contour"
           }
          ],
          "contourcarpet": [
           {
            "colorbar": {
             "outlinewidth": 0,
             "ticks": ""
            },
            "type": "contourcarpet"
           }
          ],
          "heatmap": [
           {
            "colorbar": {
             "outlinewidth": 0,
             "ticks": ""
            },
            "colorscale": [
             [
              0,
              "#0d0887"
             ],
             [
              0.1111111111111111,
              "#46039f"
             ],
             [
              0.2222222222222222,
              "#7201a8"
             ],
             [
              0.3333333333333333,
              "#9c179e"
             ],
             [
              0.4444444444444444,
              "#bd3786"
             ],
             [
              0.5555555555555556,
              "#d8576b"
             ],
             [
              0.6666666666666666,
              "#ed7953"
             ],
             [
              0.7777777777777778,
              "#fb9f3a"
             ],
             [
              0.8888888888888888,
              "#fdca26"
             ],
             [
              1,
              "#f0f921"
             ]
            ],
            "type": "heatmap"
           }
          ],
          "heatmapgl": [
           {
            "colorbar": {
             "outlinewidth": 0,
             "ticks": ""
            },
            "colorscale": [
             [
              0,
              "#0d0887"
             ],
             [
              0.1111111111111111,
              "#46039f"
             ],
             [
              0.2222222222222222,
              "#7201a8"
             ],
             [
              0.3333333333333333,
              "#9c179e"
             ],
             [
              0.4444444444444444,
              "#bd3786"
             ],
             [
              0.5555555555555556,
              "#d8576b"
             ],
             [
              0.6666666666666666,
              "#ed7953"
             ],
             [
              0.7777777777777778,
              "#fb9f3a"
             ],
             [
              0.8888888888888888,
              "#fdca26"
             ],
             [
              1,
              "#f0f921"
             ]
            ],
            "type": "heatmapgl"
           }
          ],
          "histogram": [
           {
            "marker": {
             "pattern": {
              "fillmode": "overlay",
              "size": 10,
              "solidity": 0.2
             }
            },
            "type": "histogram"
           }
          ],
          "histogram2d": [
           {
            "colorbar": {
             "outlinewidth": 0,
             "ticks": ""
            },
            "colorscale": [
             [
              0,
              "#0d0887"
             ],
             [
              0.1111111111111111,
              "#46039f"
             ],
             [
              0.2222222222222222,
              "#7201a8"
             ],
             [
              0.3333333333333333,
              "#9c179e"
             ],
             [
              0.4444444444444444,
              "#bd3786"
             ],
             [
              0.5555555555555556,
              "#d8576b"
             ],
             [
              0.6666666666666666,
              "#ed7953"
             ],
             [
              0.7777777777777778,
              "#fb9f3a"
             ],
             [
              0.8888888888888888,
              "#fdca26"
             ],
             [
              1,
              "#f0f921"
             ]
            ],
            "type": "histogram2d"
           }
          ],
          "histogram2dcontour": [
           {
            "colorbar": {
             "outlinewidth": 0,
             "ticks": ""
            },
            "colorscale": [
             [
              0,
              "#0d0887"
             ],
             [
              0.1111111111111111,
              "#46039f"
             ],
             [
              0.2222222222222222,
              "#7201a8"
             ],
             [
              0.3333333333333333,
              "#9c179e"
             ],
             [
              0.4444444444444444,
              "#bd3786"
             ],
             [
              0.5555555555555556,
              "#d8576b"
             ],
             [
              0.6666666666666666,
              "#ed7953"
             ],
             [
              0.7777777777777778,
              "#fb9f3a"
             ],
             [
              0.8888888888888888,
              "#fdca26"
             ],
             [
              1,
              "#f0f921"
             ]
            ],
            "type": "histogram2dcontour"
           }
          ],
          "mesh3d": [
           {
            "colorbar": {
             "outlinewidth": 0,
             "ticks": ""
            },
            "type": "mesh3d"
           }
          ],
          "parcoords": [
           {
            "line": {
             "colorbar": {
              "outlinewidth": 0,
              "ticks": ""
             }
            },
            "type": "parcoords"
           }
          ],
          "pie": [
           {
            "automargin": true,
            "type": "pie"
           }
          ],
          "scatter": [
           {
            "fillpattern": {
             "fillmode": "overlay",
             "size": 10,
             "solidity": 0.2
            },
            "type": "scatter"
           }
          ],
          "scatter3d": [
           {
            "line": {
             "colorbar": {
              "outlinewidth": 0,
              "ticks": ""
             }
            },
            "marker": {
             "colorbar": {
              "outlinewidth": 0,
              "ticks": ""
             }
            },
            "type": "scatter3d"
           }
          ],
          "scattercarpet": [
           {
            "marker": {
             "colorbar": {
              "outlinewidth": 0,
              "ticks": ""
             }
            },
            "type": "scattercarpet"
           }
          ],
          "scattergeo": [
           {
            "marker": {
             "colorbar": {
              "outlinewidth": 0,
              "ticks": ""
             }
            },
            "type": "scattergeo"
           }
          ],
          "scattergl": [
           {
            "marker": {
             "colorbar": {
              "outlinewidth": 0,
              "ticks": ""
             }
            },
            "type": "scattergl"
           }
          ],
          "scattermapbox": [
           {
            "marker": {
             "colorbar": {
              "outlinewidth": 0,
              "ticks": ""
             }
            },
            "type": "scattermapbox"
           }
          ],
          "scatterpolar": [
           {
            "marker": {
             "colorbar": {
              "outlinewidth": 0,
              "ticks": ""
             }
            },
            "type": "scatterpolar"
           }
          ],
          "scatterpolargl": [
           {
            "marker": {
             "colorbar": {
              "outlinewidth": 0,
              "ticks": ""
             }
            },
            "type": "scatterpolargl"
           }
          ],
          "scatterternary": [
           {
            "marker": {
             "colorbar": {
              "outlinewidth": 0,
              "ticks": ""
             }
            },
            "type": "scatterternary"
           }
          ],
          "surface": [
           {
            "colorbar": {
             "outlinewidth": 0,
             "ticks": ""
            },
            "colorscale": [
             [
              0,
              "#0d0887"
             ],
             [
              0.1111111111111111,
              "#46039f"
             ],
             [
              0.2222222222222222,
              "#7201a8"
             ],
             [
              0.3333333333333333,
              "#9c179e"
             ],
             [
              0.4444444444444444,
              "#bd3786"
             ],
             [
              0.5555555555555556,
              "#d8576b"
             ],
             [
              0.6666666666666666,
              "#ed7953"
             ],
             [
              0.7777777777777778,
              "#fb9f3a"
             ],
             [
              0.8888888888888888,
              "#fdca26"
             ],
             [
              1,
              "#f0f921"
             ]
            ],
            "type": "surface"
           }
          ],
          "table": [
           {
            "cells": {
             "fill": {
              "color": "#EBF0F8"
             },
             "line": {
              "color": "white"
             }
            },
            "header": {
             "fill": {
              "color": "#C8D4E3"
             },
             "line": {
              "color": "white"
             }
            },
            "type": "table"
           }
          ]
         },
         "layout": {
          "annotationdefaults": {
           "arrowcolor": "#2a3f5f",
           "arrowhead": 0,
           "arrowwidth": 1
          },
          "autotypenumbers": "strict",
          "coloraxis": {
           "colorbar": {
            "outlinewidth": 0,
            "ticks": ""
           }
          },
          "colorscale": {
           "diverging": [
            [
             0,
             "#8e0152"
            ],
            [
             0.1,
             "#c51b7d"
            ],
            [
             0.2,
             "#de77ae"
            ],
            [
             0.3,
             "#f1b6da"
            ],
            [
             0.4,
             "#fde0ef"
            ],
            [
             0.5,
             "#f7f7f7"
            ],
            [
             0.6,
             "#e6f5d0"
            ],
            [
             0.7,
             "#b8e186"
            ],
            [
             0.8,
             "#7fbc41"
            ],
            [
             0.9,
             "#4d9221"
            ],
            [
             1,
             "#276419"
            ]
           ],
           "sequential": [
            [
             0,
             "#0d0887"
            ],
            [
             0.1111111111111111,
             "#46039f"
            ],
            [
             0.2222222222222222,
             "#7201a8"
            ],
            [
             0.3333333333333333,
             "#9c179e"
            ],
            [
             0.4444444444444444,
             "#bd3786"
            ],
            [
             0.5555555555555556,
             "#d8576b"
            ],
            [
             0.6666666666666666,
             "#ed7953"
            ],
            [
             0.7777777777777778,
             "#fb9f3a"
            ],
            [
             0.8888888888888888,
             "#fdca26"
            ],
            [
             1,
             "#f0f921"
            ]
           ],
           "sequentialminus": [
            [
             0,
             "#0d0887"
            ],
            [
             0.1111111111111111,
             "#46039f"
            ],
            [
             0.2222222222222222,
             "#7201a8"
            ],
            [
             0.3333333333333333,
             "#9c179e"
            ],
            [
             0.4444444444444444,
             "#bd3786"
            ],
            [
             0.5555555555555556,
             "#d8576b"
            ],
            [
             0.6666666666666666,
             "#ed7953"
            ],
            [
             0.7777777777777778,
             "#fb9f3a"
            ],
            [
             0.8888888888888888,
             "#fdca26"
            ],
            [
             1,
             "#f0f921"
            ]
           ]
          },
          "colorway": [
           "#636efa",
           "#EF553B",
           "#00cc96",
           "#ab63fa",
           "#FFA15A",
           "#19d3f3",
           "#FF6692",
           "#B6E880",
           "#FF97FF",
           "#FECB52"
          ],
          "font": {
           "color": "#2a3f5f"
          },
          "geo": {
           "bgcolor": "white",
           "lakecolor": "white",
           "landcolor": "#E5ECF6",
           "showlakes": true,
           "showland": true,
           "subunitcolor": "white"
          },
          "hoverlabel": {
           "align": "left"
          },
          "hovermode": "closest",
          "mapbox": {
           "style": "light"
          },
          "paper_bgcolor": "white",
          "plot_bgcolor": "#E5ECF6",
          "polar": {
           "angularaxis": {
            "gridcolor": "white",
            "linecolor": "white",
            "ticks": ""
           },
           "bgcolor": "#E5ECF6",
           "radialaxis": {
            "gridcolor": "white",
            "linecolor": "white",
            "ticks": ""
           }
          },
          "scene": {
           "xaxis": {
            "backgroundcolor": "#E5ECF6",
            "gridcolor": "white",
            "gridwidth": 2,
            "linecolor": "white",
            "showbackground": true,
            "ticks": "",
            "zerolinecolor": "white"
           },
           "yaxis": {
            "backgroundcolor": "#E5ECF6",
            "gridcolor": "white",
            "gridwidth": 2,
            "linecolor": "white",
            "showbackground": true,
            "ticks": "",
            "zerolinecolor": "white"
           },
           "zaxis": {
            "backgroundcolor": "#E5ECF6",
            "gridcolor": "white",
            "gridwidth": 2,
            "linecolor": "white",
            "showbackground": true,
            "ticks": "",
            "zerolinecolor": "white"
           }
          },
          "shapedefaults": {
           "line": {
            "color": "#2a3f5f"
           }
          },
          "ternary": {
           "aaxis": {
            "gridcolor": "white",
            "linecolor": "white",
            "ticks": ""
           },
           "baxis": {
            "gridcolor": "white",
            "linecolor": "white",
            "ticks": ""
           },
           "bgcolor": "#E5ECF6",
           "caxis": {
            "gridcolor": "white",
            "linecolor": "white",
            "ticks": ""
           }
          },
          "title": {
           "x": 0.05
          },
          "xaxis": {
           "automargin": true,
           "gridcolor": "white",
           "linecolor": "white",
           "ticks": "",
           "title": {
            "standoff": 15
           },
           "zerolinecolor": "white",
           "zerolinewidth": 2
          },
          "yaxis": {
           "automargin": true,
           "gridcolor": "white",
           "linecolor": "white",
           "ticks": "",
           "title": {
            "standoff": 15
           },
           "zerolinecolor": "white",
           "zerolinewidth": 2
          }
         }
        },
        "xaxis": {
         "anchor": "y",
         "domain": [
          0,
          1
         ],
         "title": {
          "text": "FG3%"
         }
        },
        "yaxis": {
         "anchor": "x",
         "domain": [
          0,
          1
         ],
         "title": {
          "text": "FG3A_per_Game"
         }
        }
       }
      },
      "text/html": [
       "<div>                            <div id=\"f1cf9e63-d7d9-43da-bd9d-41f853fcb8a1\" class=\"plotly-graph-div\" style=\"height:525px; width:100%;\"></div>            <script type=\"text/javascript\">                require([\"plotly\"], function(Plotly) {                    window.PLOTLYENV=window.PLOTLYENV || {};                                    if (document.getElementById(\"f1cf9e63-d7d9-43da-bd9d-41f853fcb8a1\")) {                    Plotly.newPlot(                        \"f1cf9e63-d7d9-43da-bd9d-41f853fcb8a1\",                        [{\"hovertemplate\":\"Starting_Year=2012<br>FG3%=%{x}<br>FG3A_per_Game=%{y}<extra></extra>\",\"legendgroup\":\"2012\",\"marker\":{\"color\":\"#636efa\",\"symbol\":\"circle\"},\"mode\":\"markers\",\"name\":\"2012\",\"orientation\":\"v\",\"showlegend\":true,\"x\":[0.366],\"xaxis\":\"x\",\"y\":[3.54],\"yaxis\":\"y\",\"type\":\"scatter\"},{\"hovertemplate\":\"Starting_Year=2013<br>FG3%=%{x}<br>FG3A_per_Game=%{y}<extra></extra>\",\"legendgroup\":\"2013\",\"marker\":{\"color\":\"#EF553B\",\"symbol\":\"circle\"},\"mode\":\"markers\",\"name\":\"2013\",\"orientation\":\"v\",\"showlegend\":true,\"x\":[0.377],\"xaxis\":\"x\",\"y\":[3.96],\"yaxis\":\"y\",\"type\":\"scatter\"},{\"hovertemplate\":\"Starting_Year=2014<br>FG3%=%{x}<br>FG3A_per_Game=%{y}<extra></extra>\",\"legendgroup\":\"2014\",\"marker\":{\"color\":\"#00cc96\",\"symbol\":\"circle\"},\"mode\":\"markers\",\"name\":\"2014\",\"orientation\":\"v\",\"showlegend\":true,\"x\":[0.372],\"xaxis\":\"x\",\"y\":[3.83],\"yaxis\":\"y\",\"type\":\"scatter\"},{\"hovertemplate\":\"Starting_Year=2015<br>FG3%=%{x}<br>FG3A_per_Game=%{y}<extra></extra>\",\"legendgroup\":\"2015\",\"marker\":{\"color\":\"#ab63fa\",\"symbol\":\"circle\"},\"mode\":\"markers\",\"name\":\"2015\",\"orientation\":\"v\",\"showlegend\":true,\"x\":[0.378],\"xaxis\":\"x\",\"y\":[5.23],\"yaxis\":\"y\",\"type\":\"scatter\"},{\"hovertemplate\":\"Starting_Year=2016<br>FG3%=%{x}<br>FG3A_per_Game=%{y}<extra></extra>\",\"legendgroup\":\"2016\",\"marker\":{\"color\":\"#FFA15A\",\"symbol\":\"circle\"},\"mode\":\"markers\",\"name\":\"2016\",\"orientation\":\"v\",\"showlegend\":true,\"x\":[0.376],\"xaxis\":\"x\",\"y\":[5.66],\"yaxis\":\"y\",\"type\":\"scatter\"},{\"hovertemplate\":\"Starting_Year=2017<br>FG3%=%{x}<br>FG3A_per_Game=%{y}<extra></extra>\",\"legendgroup\":\"2017\",\"marker\":{\"color\":\"#19d3f3\",\"symbol\":\"circle\"},\"mode\":\"markers\",\"name\":\"2017\",\"orientation\":\"v\",\"showlegend\":true,\"x\":[0.371],\"xaxis\":\"x\",\"y\":[5.42],\"yaxis\":\"y\",\"type\":\"scatter\"},{\"hovertemplate\":\"Starting_Year=2018<br>FG3%=%{x}<br>FG3A_per_Game=%{y}<extra></extra>\",\"legendgroup\":\"2018\",\"marker\":{\"color\":\"#FF6692\",\"symbol\":\"circle\"},\"mode\":\"markers\",\"name\":\"2018\",\"orientation\":\"v\",\"showlegend\":true,\"x\":[0.365],\"xaxis\":\"x\",\"y\":[6.24],\"yaxis\":\"y\",\"type\":\"scatter\"},{\"hovertemplate\":\"Starting_Year=2019<br>FG3%=%{x}<br>FG3A_per_Game=%{y}<extra></extra>\",\"legendgroup\":\"2019\",\"marker\":{\"color\":\"#B6E880\",\"symbol\":\"circle\"},\"mode\":\"markers\",\"name\":\"2019\",\"orientation\":\"v\",\"showlegend\":true,\"x\":[0.364],\"xaxis\":\"x\",\"y\":[5.95],\"yaxis\":\"y\",\"type\":\"scatter\"},{\"hovertemplate\":\"Starting_Year=2020<br>FG3%=%{x}<br>FG3A_per_Game=%{y}<extra></extra>\",\"legendgroup\":\"2020\",\"marker\":{\"color\":\"#FF97FF\",\"symbol\":\"circle\"},\"mode\":\"markers\",\"name\":\"2020\",\"orientation\":\"v\",\"showlegend\":true,\"x\":[0.372],\"xaxis\":\"x\",\"y\":[5.67],\"yaxis\":\"y\",\"type\":\"scatter\"},{\"hovertemplate\":\"Starting_Year=2021<br>FG3%=%{x}<br>FG3A_per_Game=%{y}<extra></extra>\",\"legendgroup\":\"2021\",\"marker\":{\"color\":\"#FECB52\",\"symbol\":\"circle\"},\"mode\":\"markers\",\"name\":\"2021\",\"orientation\":\"v\",\"showlegend\":true,\"x\":[0.366],\"xaxis\":\"x\",\"y\":[6.44],\"yaxis\":\"y\",\"type\":\"scatter\"},{\"hovertemplate\":\"Starting_Year=2022<br>FG3%=%{x}<br>FG3A_per_Game=%{y}<extra></extra>\",\"legendgroup\":\"2022\",\"marker\":{\"color\":\"#636efa\",\"symbol\":\"circle\"},\"mode\":\"markers\",\"name\":\"2022\",\"orientation\":\"v\",\"showlegend\":true,\"x\":[0.354],\"xaxis\":\"x\",\"y\":[5.5],\"yaxis\":\"y\",\"type\":\"scatter\"}],                        {\"template\":{\"data\":{\"histogram2dcontour\":[{\"type\":\"histogram2dcontour\",\"colorbar\":{\"outlinewidth\":0,\"ticks\":\"\"},\"colorscale\":[[0.0,\"#0d0887\"],[0.1111111111111111,\"#46039f\"],[0.2222222222222222,\"#7201a8\"],[0.3333333333333333,\"#9c179e\"],[0.4444444444444444,\"#bd3786\"],[0.5555555555555556,\"#d8576b\"],[0.6666666666666666,\"#ed7953\"],[0.7777777777777778,\"#fb9f3a\"],[0.8888888888888888,\"#fdca26\"],[1.0,\"#f0f921\"]]}],\"choropleth\":[{\"type\":\"choropleth\",\"colorbar\":{\"outlinewidth\":0,\"ticks\":\"\"}}],\"histogram2d\":[{\"type\":\"histogram2d\",\"colorbar\":{\"outlinewidth\":0,\"ticks\":\"\"},\"colorscale\":[[0.0,\"#0d0887\"],[0.1111111111111111,\"#46039f\"],[0.2222222222222222,\"#7201a8\"],[0.3333333333333333,\"#9c179e\"],[0.4444444444444444,\"#bd3786\"],[0.5555555555555556,\"#d8576b\"],[0.6666666666666666,\"#ed7953\"],[0.7777777777777778,\"#fb9f3a\"],[0.8888888888888888,\"#fdca26\"],[1.0,\"#f0f921\"]]}],\"heatmap\":[{\"type\":\"heatmap\",\"colorbar\":{\"outlinewidth\":0,\"ticks\":\"\"},\"colorscale\":[[0.0,\"#0d0887\"],[0.1111111111111111,\"#46039f\"],[0.2222222222222222,\"#7201a8\"],[0.3333333333333333,\"#9c179e\"],[0.4444444444444444,\"#bd3786\"],[0.5555555555555556,\"#d8576b\"],[0.6666666666666666,\"#ed7953\"],[0.7777777777777778,\"#fb9f3a\"],[0.8888888888888888,\"#fdca26\"],[1.0,\"#f0f921\"]]}],\"heatmapgl\":[{\"type\":\"heatmapgl\",\"colorbar\":{\"outlinewidth\":0,\"ticks\":\"\"},\"colorscale\":[[0.0,\"#0d0887\"],[0.1111111111111111,\"#46039f\"],[0.2222222222222222,\"#7201a8\"],[0.3333333333333333,\"#9c179e\"],[0.4444444444444444,\"#bd3786\"],[0.5555555555555556,\"#d8576b\"],[0.6666666666666666,\"#ed7953\"],[0.7777777777777778,\"#fb9f3a\"],[0.8888888888888888,\"#fdca26\"],[1.0,\"#f0f921\"]]}],\"contourcarpet\":[{\"type\":\"contourcarpet\",\"colorbar\":{\"outlinewidth\":0,\"ticks\":\"\"}}],\"contour\":[{\"type\":\"contour\",\"colorbar\":{\"outlinewidth\":0,\"ticks\":\"\"},\"colorscale\":[[0.0,\"#0d0887\"],[0.1111111111111111,\"#46039f\"],[0.2222222222222222,\"#7201a8\"],[0.3333333333333333,\"#9c179e\"],[0.4444444444444444,\"#bd3786\"],[0.5555555555555556,\"#d8576b\"],[0.6666666666666666,\"#ed7953\"],[0.7777777777777778,\"#fb9f3a\"],[0.8888888888888888,\"#fdca26\"],[1.0,\"#f0f921\"]]}],\"surface\":[{\"type\":\"surface\",\"colorbar\":{\"outlinewidth\":0,\"ticks\":\"\"},\"colorscale\":[[0.0,\"#0d0887\"],[0.1111111111111111,\"#46039f\"],[0.2222222222222222,\"#7201a8\"],[0.3333333333333333,\"#9c179e\"],[0.4444444444444444,\"#bd3786\"],[0.5555555555555556,\"#d8576b\"],[0.6666666666666666,\"#ed7953\"],[0.7777777777777778,\"#fb9f3a\"],[0.8888888888888888,\"#fdca26\"],[1.0,\"#f0f921\"]]}],\"mesh3d\":[{\"type\":\"mesh3d\",\"colorbar\":{\"outlinewidth\":0,\"ticks\":\"\"}}],\"scatter\":[{\"fillpattern\":{\"fillmode\":\"overlay\",\"size\":10,\"solidity\":0.2},\"type\":\"scatter\"}],\"parcoords\":[{\"type\":\"parcoords\",\"line\":{\"colorbar\":{\"outlinewidth\":0,\"ticks\":\"\"}}}],\"scatterpolargl\":[{\"type\":\"scatterpolargl\",\"marker\":{\"colorbar\":{\"outlinewidth\":0,\"ticks\":\"\"}}}],\"bar\":[{\"error_x\":{\"color\":\"#2a3f5f\"},\"error_y\":{\"color\":\"#2a3f5f\"},\"marker\":{\"line\":{\"color\":\"#E5ECF6\",\"width\":0.5},\"pattern\":{\"fillmode\":\"overlay\",\"size\":10,\"solidity\":0.2}},\"type\":\"bar\"}],\"scattergeo\":[{\"type\":\"scattergeo\",\"marker\":{\"colorbar\":{\"outlinewidth\":0,\"ticks\":\"\"}}}],\"scatterpolar\":[{\"type\":\"scatterpolar\",\"marker\":{\"colorbar\":{\"outlinewidth\":0,\"ticks\":\"\"}}}],\"histogram\":[{\"marker\":{\"pattern\":{\"fillmode\":\"overlay\",\"size\":10,\"solidity\":0.2}},\"type\":\"histogram\"}],\"scattergl\":[{\"type\":\"scattergl\",\"marker\":{\"colorbar\":{\"outlinewidth\":0,\"ticks\":\"\"}}}],\"scatter3d\":[{\"type\":\"scatter3d\",\"line\":{\"colorbar\":{\"outlinewidth\":0,\"ticks\":\"\"}},\"marker\":{\"colorbar\":{\"outlinewidth\":0,\"ticks\":\"\"}}}],\"scattermapbox\":[{\"type\":\"scattermapbox\",\"marker\":{\"colorbar\":{\"outlinewidth\":0,\"ticks\":\"\"}}}],\"scatterternary\":[{\"type\":\"scatterternary\",\"marker\":{\"colorbar\":{\"outlinewidth\":0,\"ticks\":\"\"}}}],\"scattercarpet\":[{\"type\":\"scattercarpet\",\"marker\":{\"colorbar\":{\"outlinewidth\":0,\"ticks\":\"\"}}}],\"carpet\":[{\"aaxis\":{\"endlinecolor\":\"#2a3f5f\",\"gridcolor\":\"white\",\"linecolor\":\"white\",\"minorgridcolor\":\"white\",\"startlinecolor\":\"#2a3f5f\"},\"baxis\":{\"endlinecolor\":\"#2a3f5f\",\"gridcolor\":\"white\",\"linecolor\":\"white\",\"minorgridcolor\":\"white\",\"startlinecolor\":\"#2a3f5f\"},\"type\":\"carpet\"}],\"table\":[{\"cells\":{\"fill\":{\"color\":\"#EBF0F8\"},\"line\":{\"color\":\"white\"}},\"header\":{\"fill\":{\"color\":\"#C8D4E3\"},\"line\":{\"color\":\"white\"}},\"type\":\"table\"}],\"barpolar\":[{\"marker\":{\"line\":{\"color\":\"#E5ECF6\",\"width\":0.5},\"pattern\":{\"fillmode\":\"overlay\",\"size\":10,\"solidity\":0.2}},\"type\":\"barpolar\"}],\"pie\":[{\"automargin\":true,\"type\":\"pie\"}]},\"layout\":{\"autotypenumbers\":\"strict\",\"colorway\":[\"#636efa\",\"#EF553B\",\"#00cc96\",\"#ab63fa\",\"#FFA15A\",\"#19d3f3\",\"#FF6692\",\"#B6E880\",\"#FF97FF\",\"#FECB52\"],\"font\":{\"color\":\"#2a3f5f\"},\"hovermode\":\"closest\",\"hoverlabel\":{\"align\":\"left\"},\"paper_bgcolor\":\"white\",\"plot_bgcolor\":\"#E5ECF6\",\"polar\":{\"bgcolor\":\"#E5ECF6\",\"angularaxis\":{\"gridcolor\":\"white\",\"linecolor\":\"white\",\"ticks\":\"\"},\"radialaxis\":{\"gridcolor\":\"white\",\"linecolor\":\"white\",\"ticks\":\"\"}},\"ternary\":{\"bgcolor\":\"#E5ECF6\",\"aaxis\":{\"gridcolor\":\"white\",\"linecolor\":\"white\",\"ticks\":\"\"},\"baxis\":{\"gridcolor\":\"white\",\"linecolor\":\"white\",\"ticks\":\"\"},\"caxis\":{\"gridcolor\":\"white\",\"linecolor\":\"white\",\"ticks\":\"\"}},\"coloraxis\":{\"colorbar\":{\"outlinewidth\":0,\"ticks\":\"\"}},\"colorscale\":{\"sequential\":[[0.0,\"#0d0887\"],[0.1111111111111111,\"#46039f\"],[0.2222222222222222,\"#7201a8\"],[0.3333333333333333,\"#9c179e\"],[0.4444444444444444,\"#bd3786\"],[0.5555555555555556,\"#d8576b\"],[0.6666666666666666,\"#ed7953\"],[0.7777777777777778,\"#fb9f3a\"],[0.8888888888888888,\"#fdca26\"],[1.0,\"#f0f921\"]],\"sequentialminus\":[[0.0,\"#0d0887\"],[0.1111111111111111,\"#46039f\"],[0.2222222222222222,\"#7201a8\"],[0.3333333333333333,\"#9c179e\"],[0.4444444444444444,\"#bd3786\"],[0.5555555555555556,\"#d8576b\"],[0.6666666666666666,\"#ed7953\"],[0.7777777777777778,\"#fb9f3a\"],[0.8888888888888888,\"#fdca26\"],[1.0,\"#f0f921\"]],\"diverging\":[[0,\"#8e0152\"],[0.1,\"#c51b7d\"],[0.2,\"#de77ae\"],[0.3,\"#f1b6da\"],[0.4,\"#fde0ef\"],[0.5,\"#f7f7f7\"],[0.6,\"#e6f5d0\"],[0.7,\"#b8e186\"],[0.8,\"#7fbc41\"],[0.9,\"#4d9221\"],[1,\"#276419\"]]},\"xaxis\":{\"gridcolor\":\"white\",\"linecolor\":\"white\",\"ticks\":\"\",\"title\":{\"standoff\":15},\"zerolinecolor\":\"white\",\"automargin\":true,\"zerolinewidth\":2},\"yaxis\":{\"gridcolor\":\"white\",\"linecolor\":\"white\",\"ticks\":\"\",\"title\":{\"standoff\":15},\"zerolinecolor\":\"white\",\"automargin\":true,\"zerolinewidth\":2},\"scene\":{\"xaxis\":{\"backgroundcolor\":\"#E5ECF6\",\"gridcolor\":\"white\",\"linecolor\":\"white\",\"showbackground\":true,\"ticks\":\"\",\"zerolinecolor\":\"white\",\"gridwidth\":2},\"yaxis\":{\"backgroundcolor\":\"#E5ECF6\",\"gridcolor\":\"white\",\"linecolor\":\"white\",\"showbackground\":true,\"ticks\":\"\",\"zerolinecolor\":\"white\",\"gridwidth\":2},\"zaxis\":{\"backgroundcolor\":\"#E5ECF6\",\"gridcolor\":\"white\",\"linecolor\":\"white\",\"showbackground\":true,\"ticks\":\"\",\"zerolinecolor\":\"white\",\"gridwidth\":2}},\"shapedefaults\":{\"line\":{\"color\":\"#2a3f5f\"}},\"annotationdefaults\":{\"arrowcolor\":\"#2a3f5f\",\"arrowhead\":0,\"arrowwidth\":1},\"geo\":{\"bgcolor\":\"white\",\"landcolor\":\"#E5ECF6\",\"subunitcolor\":\"white\",\"showland\":true,\"showlakes\":true,\"lakecolor\":\"white\"},\"title\":{\"x\":0.05},\"mapbox\":{\"style\":\"light\"}}},\"xaxis\":{\"anchor\":\"y\",\"domain\":[0.0,1.0],\"title\":{\"text\":\"FG3%\"}},\"yaxis\":{\"anchor\":\"x\",\"domain\":[0.0,1.0],\"title\":{\"text\":\"FG3A_per_Game\"}},\"legend\":{\"title\":{\"text\":\"Starting_Year\"},\"tracegroupgap\":0},\"margin\":{\"t\":60}},                        {\"responsive\": true}                    ).then(function(){\n",
       "                            \n",
       "var gd = document.getElementById('f1cf9e63-d7d9-43da-bd9d-41f853fcb8a1');\n",
       "var x = new MutationObserver(function (mutations, observer) {{\n",
       "        var display = window.getComputedStyle(gd).display;\n",
       "        if (!display || display === 'none') {{\n",
       "            console.log([gd, 'removed!']);\n",
       "            Plotly.purge(gd);\n",
       "            observer.disconnect();\n",
       "        }}\n",
       "}});\n",
       "\n",
       "// Listen for the removal of the full notebook cells\n",
       "var notebookContainer = gd.closest('#notebook-container');\n",
       "if (notebookContainer) {{\n",
       "    x.observe(notebookContainer, {childList: true});\n",
       "}}\n",
       "\n",
       "// Listen for the clearing of the current output cell\n",
       "var outputEl = gd.closest('.output');\n",
       "if (outputEl) {{\n",
       "    x.observe(outputEl, {childList: true});\n",
       "}}\n",
       "\n",
       "                        })                };                });            </script>        </div>"
      ]
     },
     "metadata": {},
     "output_type": "display_data"
    }
   ],
   "source": [
    "# Plotting our graphic\n",
    "fig = px.scatter(final_data_3pt, x='FG3%', y='FG3A_per_Game', color='Starting_Year')\n",
    "fig.show()\n"
   ]
  }
 ],
 "metadata": {
  "kernelspec": {
   "display_name": "Python 3 (ipykernel)",
   "language": "python",
   "name": "python3"
  },
  "language_info": {
   "codemirror_mode": {
    "name": "ipython",
    "version": 3
   },
   "file_extension": ".py",
   "mimetype": "text/x-python",
   "name": "python",
   "nbconvert_exporter": "python",
   "pygments_lexer": "ipython3",
   "version": "3.9.13"
  }
 },
 "nbformat": 4,
 "nbformat_minor": 5
}
